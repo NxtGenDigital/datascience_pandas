{
  "nbformat": 4,
  "nbformat_minor": 0,
  "metadata": {
    "colab": {
      "name": "numpy exercises.ipynb",
      "provenance": [],
      "collapsed_sections": []
    },
    "kernelspec": {
      "name": "python3",
      "display_name": "Python 3"
    }
  },
  "cells": [
    {
      "cell_type": "code",
      "metadata": {
        "id": "FwBcGt_OEYUI",
        "colab_type": "code",
        "colab": {}
      },
      "source": [
        "#1. Import the numpy package under the name np (★☆☆)\n",
        "import numpy as np"
      ],
      "execution_count": 0,
      "outputs": []
    },
    {
      "cell_type": "code",
      "metadata": {
        "id": "t3mxfvFMF9uE",
        "colab_type": "code",
        "colab": {
          "base_uri": "https://localhost:8080/",
          "height": 470
        },
        "outputId": "b95c133d-0ac8-4fa7-ddf6-86227aca3d92"
      },
      "source": [
        "#2. Print the numpy version and the configuration (★☆☆)\n",
        "\n",
        "print(np.__version__)\n",
        "np.show_config()"
      ],
      "execution_count": 2,
      "outputs": [
        {
          "output_type": "stream",
          "text": [
            "1.18.4\n",
            "blas_mkl_info:\n",
            "  NOT AVAILABLE\n",
            "blis_info:\n",
            "  NOT AVAILABLE\n",
            "openblas_info:\n",
            "    libraries = ['openblas', 'openblas']\n",
            "    library_dirs = ['/usr/local/lib']\n",
            "    language = c\n",
            "    define_macros = [('HAVE_CBLAS', None)]\n",
            "blas_opt_info:\n",
            "    libraries = ['openblas', 'openblas']\n",
            "    library_dirs = ['/usr/local/lib']\n",
            "    language = c\n",
            "    define_macros = [('HAVE_CBLAS', None)]\n",
            "lapack_mkl_info:\n",
            "  NOT AVAILABLE\n",
            "openblas_lapack_info:\n",
            "    libraries = ['openblas', 'openblas']\n",
            "    library_dirs = ['/usr/local/lib']\n",
            "    language = c\n",
            "    define_macros = [('HAVE_CBLAS', None)]\n",
            "lapack_opt_info:\n",
            "    libraries = ['openblas', 'openblas']\n",
            "    library_dirs = ['/usr/local/lib']\n",
            "    language = c\n",
            "    define_macros = [('HAVE_CBLAS', None)]\n"
          ],
          "name": "stdout"
        }
      ]
    },
    {
      "cell_type": "code",
      "metadata": {
        "id": "ku1euJkgJ07P",
        "colab_type": "code",
        "colab": {
          "base_uri": "https://localhost:8080/",
          "height": 34
        },
        "outputId": "b630d5d0-d946-4325-bd9c-beaa8158b637"
      },
      "source": [
        "#3. Create a null vector of size 10 (★☆☆)\n",
        "Z = np.zeros(10)\n",
        "print(Z)"
      ],
      "execution_count": 3,
      "outputs": [
        {
          "output_type": "stream",
          "text": [
            "[0. 0. 0. 0. 0. 0. 0. 0. 0. 0.]\n"
          ],
          "name": "stdout"
        }
      ]
    },
    {
      "cell_type": "code",
      "metadata": {
        "id": "9FbS74adutb4",
        "colab_type": "code",
        "colab": {
          "base_uri": "https://localhost:8080/",
          "height": 34
        },
        "outputId": "7202e862-d707-4bb1-b051-c2ffc70710e9"
      },
      "source": [
        "#4. How to find the memory size of any array (★☆☆)\n",
        "Z = np.zeros((10,10))\n",
        "print(\"%d bytes\" % (Z.size * Z.itemsize))"
      ],
      "execution_count": 4,
      "outputs": [
        {
          "output_type": "stream",
          "text": [
            "800 bytes\n"
          ],
          "name": "stdout"
        }
      ]
    },
    {
      "cell_type": "code",
      "metadata": {
        "id": "TGiTcaAnvFzE",
        "colab_type": "code",
        "colab": {
          "base_uri": "https://localhost:8080/",
          "height": 34
        },
        "outputId": "b0d3e035-14ea-4831-c748-cca5f7eb0fac"
      },
      "source": [
        "#5. How to get the documentation of the numpy add function from the command line? (★☆☆)\n",
        "%run `python -c \"import numpy; numpy.info(numpy.add)\"\n"
      ],
      "execution_count": 5,
      "outputs": [
        {
          "output_type": "stream",
          "text": [
            "ERROR:root:File `'`python.py'` not found.\n"
          ],
          "name": "stderr"
        }
      ]
    },
    {
      "cell_type": "code",
      "metadata": {
        "id": "o9vGrOPcykpU",
        "colab_type": "code",
        "colab": {
          "base_uri": "https://localhost:8080/",
          "height": 34
        },
        "outputId": "681ad490-317d-4880-f8f5-8357638674b1"
      },
      "source": [
        "#6. Create a null vector of size 10 but the fifth value which is 1 (★☆☆)\n",
        "Z = np.zeros(10)\n",
        "Z[4] = 1\n",
        "print(Z)"
      ],
      "execution_count": 6,
      "outputs": [
        {
          "output_type": "stream",
          "text": [
            "[0. 0. 0. 0. 1. 0. 0. 0. 0. 0.]\n"
          ],
          "name": "stdout"
        }
      ]
    },
    {
      "cell_type": "code",
      "metadata": {
        "id": "3xf_xm3Cyqr9",
        "colab_type": "code",
        "colab": {
          "base_uri": "https://localhost:8080/",
          "height": 50
        },
        "outputId": "d2f82a33-5d22-4267-c64c-4666ed077f51"
      },
      "source": [
        "#7. Create a vector with values ranging from 10 to 49 (★☆☆)\n",
        "Z = np.arange(10,50)\n",
        "print(Z)"
      ],
      "execution_count": 7,
      "outputs": [
        {
          "output_type": "stream",
          "text": [
            "[10 11 12 13 14 15 16 17 18 19 20 21 22 23 24 25 26 27 28 29 30 31 32 33\n",
            " 34 35 36 37 38 39 40 41 42 43 44 45 46 47 48 49]\n"
          ],
          "name": "stdout"
        }
      ]
    },
    {
      "cell_type": "code",
      "metadata": {
        "id": "zlN8ePqByx1R",
        "colab_type": "code",
        "colab": {
          "base_uri": "https://localhost:8080/",
          "height": 67
        },
        "outputId": "10ce028e-ab9f-45f9-db0e-09a87e27ec52"
      },
      "source": [
        "#8. Reverse a vector (first element becomes last) (★☆☆)\n",
        "Z = np.arange(50)\n",
        "Z = Z[::-1]\n",
        "print(Z)"
      ],
      "execution_count": 8,
      "outputs": [
        {
          "output_type": "stream",
          "text": [
            "[49 48 47 46 45 44 43 42 41 40 39 38 37 36 35 34 33 32 31 30 29 28 27 26\n",
            " 25 24 23 22 21 20 19 18 17 16 15 14 13 12 11 10  9  8  7  6  5  4  3  2\n",
            "  1  0]\n"
          ],
          "name": "stdout"
        }
      ]
    },
    {
      "cell_type": "code",
      "metadata": {
        "id": "KS_wHxdEy18W",
        "colab_type": "code",
        "colab": {
          "base_uri": "https://localhost:8080/",
          "height": 34
        },
        "outputId": "26037797-8723-437d-ff41-41877b5aa536"
      },
      "source": [
        "#9. Create a 3x3 matrix with values ranging from 0 to 8 (★☆☆)\n",
        "nz = np.nonzero([1,2,0,0,4,0])\n",
        "print(nz)"
      ],
      "execution_count": 9,
      "outputs": [
        {
          "output_type": "stream",
          "text": [
            "(array([0, 1, 4]),)\n"
          ],
          "name": "stdout"
        }
      ]
    },
    {
      "cell_type": "code",
      "metadata": {
        "id": "4ATuVqwBy7PO",
        "colab_type": "code",
        "colab": {
          "base_uri": "https://localhost:8080/",
          "height": 34
        },
        "outputId": "4a8e48e5-8da5-4c7f-8312-fb2c32dc5d66"
      },
      "source": [
        "#10. Find indices of non-zero elements from [1,2,0,0,4,0] (★☆☆)\n",
        "nz = np.nonzero([1,2,0,0,4,0])\n",
        "print(nz)"
      ],
      "execution_count": 10,
      "outputs": [
        {
          "output_type": "stream",
          "text": [
            "(array([0, 1, 4]),)\n"
          ],
          "name": "stdout"
        }
      ]
    },
    {
      "cell_type": "code",
      "metadata": {
        "id": "1yISTgGIy_Cc",
        "colab_type": "code",
        "colab": {
          "base_uri": "https://localhost:8080/",
          "height": 67
        },
        "outputId": "9b6f72fe-46fa-4968-eb36-50e50e23b12b"
      },
      "source": [
        "#11. Create a 3x3 identity matrix (★☆☆)\n",
        "Z = np.eye(3)\n",
        "print(Z)"
      ],
      "execution_count": 11,
      "outputs": [
        {
          "output_type": "stream",
          "text": [
            "[[1. 0. 0.]\n",
            " [0. 1. 0.]\n",
            " [0. 0. 1.]]\n"
          ],
          "name": "stdout"
        }
      ]
    },
    {
      "cell_type": "code",
      "metadata": {
        "id": "kCOi6TcLzDYs",
        "colab_type": "code",
        "colab": {
          "base_uri": "https://localhost:8080/",
          "height": 202
        },
        "outputId": "fc7040fd-0c3d-416c-dcb1-9269e19e53a0"
      },
      "source": [
        "#12. Create a 3x3x3 array with random values (★☆☆)\n",
        "Z = np.random.random((3,3,3))\n",
        "print(Z)"
      ],
      "execution_count": 12,
      "outputs": [
        {
          "output_type": "stream",
          "text": [
            "[[[0.24857004 0.69010082 0.83466003]\n",
            "  [0.43940166 0.27077389 0.4863039 ]\n",
            "  [0.85547465 0.06691318 0.9303294 ]]\n",
            "\n",
            " [[0.46270775 0.65738638 0.49908184]\n",
            "  [0.64475404 0.96770791 0.06561203]\n",
            "  [0.41774839 0.63899401 0.43033356]]\n",
            "\n",
            " [[0.94358989 0.51895182 0.13694552]\n",
            "  [0.96040667 0.2971657  0.85769058]\n",
            "  [0.20250819 0.55062914 0.45242418]]]\n"
          ],
          "name": "stdout"
        }
      ]
    },
    {
      "cell_type": "code",
      "metadata": {
        "id": "zXV4XeHDzIIw",
        "colab_type": "code",
        "colab": {
          "base_uri": "https://localhost:8080/",
          "height": 34
        },
        "outputId": "bbf81d88-0240-4465-eeef-8e70fcc5bc47"
      },
      "source": [
        "#13. Create a 10x10 array with random values and find the minimum and maximum values (★☆☆)\n",
        "Z = np.random.random((10,10))\n",
        "Zmin, Zmax = Z.min(), Z.max()\n",
        "print(Zmin, Zmax)"
      ],
      "execution_count": 13,
      "outputs": [
        {
          "output_type": "stream",
          "text": [
            "0.009094951866595924 0.998032595480157\n"
          ],
          "name": "stdout"
        }
      ]
    },
    {
      "cell_type": "code",
      "metadata": {
        "id": "Z1Kz-bVtzNMR",
        "colab_type": "code",
        "colab": {
          "base_uri": "https://localhost:8080/",
          "height": 34
        },
        "outputId": "664c7dd7-d01f-4565-fe67-12fb045cbdd8"
      },
      "source": [
        "#14. Create a random vector of size 30 and find the mean value (★☆☆)\n",
        "Z = np.random.random(30)\n",
        "m = Z.mean()\n",
        "print(m)"
      ],
      "execution_count": 15,
      "outputs": [
        {
          "output_type": "stream",
          "text": [
            "0.4875738946508806\n"
          ],
          "name": "stdout"
        }
      ]
    },
    {
      "cell_type": "code",
      "metadata": {
        "id": "SRy4Ekfazxu3",
        "colab_type": "code",
        "colab": {
          "base_uri": "https://localhost:8080/",
          "height": 185
        },
        "outputId": "96287686-bb77-4c93-91d7-4d0eb538fbf0"
      },
      "source": [
        "#15. Create a 2d array with 1 on the border and 0 inside (★☆☆)\n",
        "Z = np.ones((10,10))\n",
        "Z[1:-1,1:-1] = 0\n",
        "print(Z)"
      ],
      "execution_count": 16,
      "outputs": [
        {
          "output_type": "stream",
          "text": [
            "[[1. 1. 1. 1. 1. 1. 1. 1. 1. 1.]\n",
            " [1. 0. 0. 0. 0. 0. 0. 0. 0. 1.]\n",
            " [1. 0. 0. 0. 0. 0. 0. 0. 0. 1.]\n",
            " [1. 0. 0. 0. 0. 0. 0. 0. 0. 1.]\n",
            " [1. 0. 0. 0. 0. 0. 0. 0. 0. 1.]\n",
            " [1. 0. 0. 0. 0. 0. 0. 0. 0. 1.]\n",
            " [1. 0. 0. 0. 0. 0. 0. 0. 0. 1.]\n",
            " [1. 0. 0. 0. 0. 0. 0. 0. 0. 1.]\n",
            " [1. 0. 0. 0. 0. 0. 0. 0. 0. 1.]\n",
            " [1. 1. 1. 1. 1. 1. 1. 1. 1. 1.]]\n"
          ],
          "name": "stdout"
        }
      ]
    },
    {
      "cell_type": "code",
      "metadata": {
        "id": "Xsqq7hrtz2Pu",
        "colab_type": "code",
        "colab": {
          "base_uri": "https://localhost:8080/",
          "height": 134
        },
        "outputId": "c347032b-2496-4598-cf15-974263a77087"
      },
      "source": [
        "#16. How to add a border (filled with 0's) around an existing array? (★☆☆)\n",
        "Z = np.ones((5,5))\n",
        "Z = np.pad(Z, pad_width=1, mode='constant', constant_values=0)\n",
        "print(Z)"
      ],
      "execution_count": 17,
      "outputs": [
        {
          "output_type": "stream",
          "text": [
            "[[0. 0. 0. 0. 0. 0. 0.]\n",
            " [0. 1. 1. 1. 1. 1. 0.]\n",
            " [0. 1. 1. 1. 1. 1. 0.]\n",
            " [0. 1. 1. 1. 1. 1. 0.]\n",
            " [0. 1. 1. 1. 1. 1. 0.]\n",
            " [0. 1. 1. 1. 1. 1. 0.]\n",
            " [0. 0. 0. 0. 0. 0. 0.]]\n"
          ],
          "name": "stdout"
        }
      ]
    },
    {
      "cell_type": "code",
      "metadata": {
        "id": "RU7x6qxmz6OI",
        "colab_type": "code",
        "colab": {
          "base_uri": "https://localhost:8080/",
          "height": 118
        },
        "outputId": "aeb5d32b-c89c-46d4-da4a-88c319c8ea09"
      },
      "source": [
        "#17. What is the result of the following expression? (★☆☆)\n",
        "0 * np.nan\n",
        "np.nan == np.nan\n",
        "np.inf > np.nan\n",
        "np.nan - np.nan\n",
        "np.nan in set([np.nan])\n",
        "0.3 == 3 * 0.1\n",
        "\n",
        "print(0 * np.nan)\n",
        "print(np.nan == np.nan)\n",
        "print(np.inf > np.nan)\n",
        "print(np.nan - np.nan)\n",
        "print(np.nan in set([np.nan]))\n",
        "print(0.3 == 3 * 0.1)"
      ],
      "execution_count": 19,
      "outputs": [
        {
          "output_type": "stream",
          "text": [
            "nan\n",
            "False\n",
            "False\n",
            "nan\n",
            "True\n",
            "False\n"
          ],
          "name": "stdout"
        }
      ]
    },
    {
      "cell_type": "code",
      "metadata": {
        "id": "087sXHw00Da2",
        "colab_type": "code",
        "colab": {
          "base_uri": "https://localhost:8080/",
          "height": 101
        },
        "outputId": "5c0abaa5-cae5-4f2a-8ce5-d1183f0f32ed"
      },
      "source": [
        "#18. Create a 5x5 matrix with values 1,2,3,4 just below the diagonal (★☆☆)\n",
        "Z = np.diag(1+np.arange(4),k=-1)\n",
        "print(Z)"
      ],
      "execution_count": 20,
      "outputs": [
        {
          "output_type": "stream",
          "text": [
            "[[0 0 0 0 0]\n",
            " [1 0 0 0 0]\n",
            " [0 2 0 0 0]\n",
            " [0 0 3 0 0]\n",
            " [0 0 0 4 0]]\n"
          ],
          "name": "stdout"
        }
      ]
    },
    {
      "cell_type": "code",
      "metadata": {
        "id": "wFAKEKHH0Hwm",
        "colab_type": "code",
        "colab": {
          "base_uri": "https://localhost:8080/",
          "height": 151
        },
        "outputId": "66ca55c0-76bb-4bcf-ec7c-2e627d177e48"
      },
      "source": [
        "#19. Create a 8x8 matrix and fill it with a checkerboard pattern (★☆☆)\n",
        "Z = np.zeros((8,8),dtype=int)\n",
        "Z[1::2,::2] = 1\n",
        "Z[::2,1::2] = 1\n",
        "print(Z)"
      ],
      "execution_count": 21,
      "outputs": [
        {
          "output_type": "stream",
          "text": [
            "[[0 1 0 1 0 1 0 1]\n",
            " [1 0 1 0 1 0 1 0]\n",
            " [0 1 0 1 0 1 0 1]\n",
            " [1 0 1 0 1 0 1 0]\n",
            " [0 1 0 1 0 1 0 1]\n",
            " [1 0 1 0 1 0 1 0]\n",
            " [0 1 0 1 0 1 0 1]\n",
            " [1 0 1 0 1 0 1 0]]\n"
          ],
          "name": "stdout"
        }
      ]
    },
    {
      "cell_type": "code",
      "metadata": {
        "id": "XxGTdNgo0M5u",
        "colab_type": "code",
        "colab": {
          "base_uri": "https://localhost:8080/",
          "height": 34
        },
        "outputId": "c395031e-69d7-400b-efa3-1382641367a1"
      },
      "source": [
        "#20. Consider a (6,7,8) shape array, what is the index (x,y,z) of the 100th element?\n",
        "print(np.unravel_index(99,(6,7,8)))\n"
      ],
      "execution_count": 22,
      "outputs": [
        {
          "output_type": "stream",
          "text": [
            "(1, 5, 3)\n"
          ],
          "name": "stdout"
        }
      ]
    },
    {
      "cell_type": "code",
      "metadata": {
        "id": "h2f47Pss0Rfq",
        "colab_type": "code",
        "colab": {
          "base_uri": "https://localhost:8080/",
          "height": 151
        },
        "outputId": "d6910217-9ea4-45f0-e3c2-dab7114b3a92"
      },
      "source": [
        "#21. Create a checkerboard 8x8 matrix using the tile function (★☆☆)\n",
        "Z = np.tile( np.array([[0,1],[1,0]]), (4,4))\n",
        "print(Z)"
      ],
      "execution_count": 23,
      "outputs": [
        {
          "output_type": "stream",
          "text": [
            "[[0 1 0 1 0 1 0 1]\n",
            " [1 0 1 0 1 0 1 0]\n",
            " [0 1 0 1 0 1 0 1]\n",
            " [1 0 1 0 1 0 1 0]\n",
            " [0 1 0 1 0 1 0 1]\n",
            " [1 0 1 0 1 0 1 0]\n",
            " [0 1 0 1 0 1 0 1]\n",
            " [1 0 1 0 1 0 1 0]]\n"
          ],
          "name": "stdout"
        }
      ]
    },
    {
      "cell_type": "code",
      "metadata": {
        "id": "w0hf2Pz90VzC",
        "colab_type": "code",
        "colab": {
          "base_uri": "https://localhost:8080/",
          "height": 101
        },
        "outputId": "a4ba97fa-16dd-4634-d024-f4341eaa2987"
      },
      "source": [
        "#22. Normalize a 5x5 random matrix (★☆☆)\n",
        "Z = np.random.random((5,5))\n",
        "Z = (Z - np.mean (Z)) / (np.std (Z))\n",
        "print(Z)"
      ],
      "execution_count": 24,
      "outputs": [
        {
          "output_type": "stream",
          "text": [
            "[[ 1.59441455 -0.40030532 -0.51329317 -0.26749831 -1.16595146]\n",
            " [-0.06696053 -0.84812576  0.97475378 -1.56412009  0.88497984]\n",
            " [ 0.74971345  0.92218868  1.40106226 -1.8429155  -0.03767298]\n",
            " [-0.12494353  1.63504757 -1.0393202  -1.07169706 -0.92960808]\n",
            " [ 0.48275627 -0.54191672  0.18608913 -0.02368867  1.60701185]]\n"
          ],
          "name": "stdout"
        }
      ]
    },
    {
      "cell_type": "code",
      "metadata": {
        "id": "3ozHmiZ10Zn3",
        "colab_type": "code",
        "colab": {
          "base_uri": "https://localhost:8080/",
          "height": 87
        },
        "outputId": "25695d64-ff56-4b6a-c194-2acadb67c43d"
      },
      "source": [
        "#23. Create a custom dtype that describes a color as four unsigned bytes (RGBA) (★☆☆)\n",
        "color = np.dtype([(\"r\", np.ubyte, 1),\n",
        "                  (\"g\", np.ubyte, 1),\n",
        "                  (\"b\", np.ubyte, 1),\n",
        "                  (\"a\", np.ubyte, 1)])\n",
        "color"
      ],
      "execution_count": 26,
      "outputs": [
        {
          "output_type": "stream",
          "text": [
            "/usr/local/lib/python3.6/dist-packages/ipykernel_launcher.py:5: FutureWarning: Passing (type, 1) or '1type' as a synonym of type is deprecated; in a future version of numpy, it will be understood as (type, (1,)) / '(1,)type'.\n",
            "  \"\"\"\n"
          ],
          "name": "stderr"
        },
        {
          "output_type": "execute_result",
          "data": {
            "text/plain": [
              "dtype([('r', 'u1'), ('g', 'u1'), ('b', 'u1'), ('a', 'u1')])"
            ]
          },
          "metadata": {
            "tags": []
          },
          "execution_count": 26
        }
      ]
    },
    {
      "cell_type": "code",
      "metadata": {
        "id": "GSWioz3c0etr",
        "colab_type": "code",
        "colab": {
          "base_uri": "https://localhost:8080/",
          "height": 185
        },
        "outputId": "65e86916-4a1e-488e-d27f-58bec11a1c95"
      },
      "source": [
        "#24. Multiply a 5x3 matrix by a 3x2 matrix (real matrix product) (★☆☆)\n",
        "Z = np.dot(np.ones((5,3)), np.ones((3,2)))\n",
        "print(Z)\n",
        "\n",
        "# Alternative solution, in Python 3.5 and above\n",
        "Z = np.ones((5,3)) @ np.ones((3,2))\n",
        "print(Z)"
      ],
      "execution_count": 27,
      "outputs": [
        {
          "output_type": "stream",
          "text": [
            "[[3. 3.]\n",
            " [3. 3.]\n",
            " [3. 3.]\n",
            " [3. 3.]\n",
            " [3. 3.]]\n",
            "[[3. 3.]\n",
            " [3. 3.]\n",
            " [3. 3.]\n",
            " [3. 3.]\n",
            " [3. 3.]]\n"
          ],
          "name": "stdout"
        }
      ]
    },
    {
      "cell_type": "code",
      "metadata": {
        "id": "svFXKwZv1Fmg",
        "colab_type": "code",
        "colab": {
          "base_uri": "https://localhost:8080/",
          "height": 34
        },
        "outputId": "8a114dd7-f2b3-484a-ae33-6a5d20ed3dcd"
      },
      "source": [
        "#25. Given a 1D array, negate all elements which are between 3 and 8, in place. (★☆☆)\n",
        "# Author: Evgeni Burovski\n",
        "\n",
        "Z = np.arange(11)\n",
        "Z[(3 < Z) & (Z < 8)] *= -1\n",
        "print(Z)"
      ],
      "execution_count": 28,
      "outputs": [
        {
          "output_type": "stream",
          "text": [
            "[ 0  1  2  3 -4 -5 -6 -7  8  9 10]\n"
          ],
          "name": "stdout"
        }
      ]
    },
    {
      "cell_type": "code",
      "metadata": {
        "id": "GcNSVyDv1hK4",
        "colab_type": "code",
        "colab": {
          "base_uri": "https://localhost:8080/",
          "height": 84
        },
        "outputId": "45a739db-431c-4920-9c03-d23579329139"
      },
      "source": [
        "#26. What is the output of the following script? (★☆☆)\n",
        "# Author: Jake VanderPlas\n",
        "\n",
        "print(sum(range(5),-1))\n",
        "from numpy import *\n",
        "print(sum(range(5),-1))\n",
        "# Author: Jake VanderPlas\n",
        "\n",
        "print(sum(range(5),-1))\n",
        "from numpy import *\n",
        "print(sum(range(5),-1))"
      ],
      "execution_count": 30,
      "outputs": [
        {
          "output_type": "stream",
          "text": [
            "10\n",
            "10\n",
            "10\n",
            "10\n"
          ],
          "name": "stdout"
        }
      ]
    },
    {
      "cell_type": "code",
      "metadata": {
        "id": "8Q9RAkxN2FsI",
        "colab_type": "code",
        "colab": {
          "base_uri": "https://localhost:8080/",
          "height": 34
        },
        "outputId": "3a70c007-2cf9-4d37-e51a-82d766aa7651"
      },
      "source": [
        "#29. How to round away from zero a float array ? (★☆☆)\n",
        "# Author: Charles R Harris\n",
        "\n",
        "Z = np.random.uniform(-10,+10,10)\n",
        "print (np.copysign(np.ceil(np.abs(Z)), Z))"
      ],
      "execution_count": 36,
      "outputs": [
        {
          "output_type": "stream",
          "text": [
            "[ 9. -8.  7.  1.  5.  1. -7. -3.  5. -4.]\n"
          ],
          "name": "stdout"
        }
      ]
    },
    {
      "cell_type": "code",
      "metadata": {
        "id": "OUCRwwVJ2I40",
        "colab_type": "code",
        "colab": {
          "base_uri": "https://localhost:8080/",
          "height": 34
        },
        "outputId": "678d60cf-c8a3-41ef-dd70-b4682fee2087"
      },
      "source": [
        "#30. How to find common values between two arrays? (★☆☆)\n",
        "Z1 = np.random.randint(0,10,10)\n",
        "Z2 = np.random.randint(0,10,10)\n",
        "print(np.intersect1d(Z1,Z2))"
      ],
      "execution_count": 38,
      "outputs": [
        {
          "output_type": "stream",
          "text": [
            "[3 4 7 9]\n"
          ],
          "name": "stdout"
        }
      ]
    },
    {
      "cell_type": "code",
      "metadata": {
        "id": "FEwlTYKT2NBo",
        "colab_type": "code",
        "colab": {
          "base_uri": "https://localhost:8080/",
          "height": 34
        },
        "outputId": "7e7f6d1d-837c-479d-d7c2-690c0206d1cc"
      },
      "source": [
        "#31. How to ignore all numpy warnings (not recommended)? (★☆☆)\n",
        "# Suicide mode on\n",
        "defaults = np.seterr(all=\"ignore\")\n",
        "Z = np.ones(1) / 0\n",
        "\n",
        "# Back to sanity\n",
        "_ = np.seterr(**defaults)\n",
        "\n",
        "# Equivalently with a context manager\n",
        "nz = np.nonzero([1,2,0,0,4,0])\n",
        "print(nz)"
      ],
      "execution_count": 41,
      "outputs": [
        {
          "output_type": "stream",
          "text": [
            "(array([0, 1, 4]),)\n"
          ],
          "name": "stdout"
        }
      ]
    },
    {
      "cell_type": "code",
      "metadata": {
        "id": "XpU7kRw73Nu9",
        "colab_type": "code",
        "colab": {
          "base_uri": "https://localhost:8080/",
          "height": 134
        },
        "outputId": "04650a53-2854-4474-812c-7ca275f02559"
      },
      "source": [
        "#34. How to get all the dates corresponding to the month of July 2016? (★★☆)\n",
        "Z = np.arange('2016-07', '2016-08', dtype='datetime64[D]')\n",
        "print(Z)"
      ],
      "execution_count": 49,
      "outputs": [
        {
          "output_type": "stream",
          "text": [
            "['2016-07-01' '2016-07-02' '2016-07-03' '2016-07-04' '2016-07-05'\n",
            " '2016-07-06' '2016-07-07' '2016-07-08' '2016-07-09' '2016-07-10'\n",
            " '2016-07-11' '2016-07-12' '2016-07-13' '2016-07-14' '2016-07-15'\n",
            " '2016-07-16' '2016-07-17' '2016-07-18' '2016-07-19' '2016-07-20'\n",
            " '2016-07-21' '2016-07-22' '2016-07-23' '2016-07-24' '2016-07-25'\n",
            " '2016-07-26' '2016-07-27' '2016-07-28' '2016-07-29' '2016-07-30'\n",
            " '2016-07-31']\n"
          ],
          "name": "stdout"
        }
      ]
    },
    {
      "cell_type": "code",
      "metadata": {
        "id": "9GlJK8NW3oLd",
        "colab_type": "code",
        "colab": {
          "base_uri": "https://localhost:8080/",
          "height": 34
        },
        "outputId": "d77a6c8d-e665-405b-bdc7-21fd7d0a6866"
      },
      "source": [
        "#35. How to compute ((A+B)*(-A/2)) in place (without copy)? (★★☆)\n",
        "A = np.ones(3)*1\n",
        "B = np.ones(3)*2\n",
        "C = np.ones(3)*3\n",
        "np.add(A,B,out=B)\n",
        "np.divide(A,2,out=A)\n",
        "np.negative(A,out=A)\n",
        "np.multiply(A,B,out=A)"
      ],
      "execution_count": 50,
      "outputs": [
        {
          "output_type": "execute_result",
          "data": {
            "text/plain": [
              "array([-1.5, -1.5, -1.5])"
            ]
          },
          "metadata": {
            "tags": []
          },
          "execution_count": 50
        }
      ]
    },
    {
      "cell_type": "code",
      "metadata": {
        "id": "X9JMc7ct3wDP",
        "colab_type": "code",
        "colab": {
          "base_uri": "https://localhost:8080/",
          "height": 101
        },
        "outputId": "4597a58f-0976-4996-8a67-de52154d344e"
      },
      "source": [
        "#36. Extract the integer part of a random array using 5 different methods (★★☆)\n",
        "Z = np.random.uniform(0,10,10)\n",
        "\n",
        "print (Z - Z%1)\n",
        "print (np.floor(Z))\n",
        "print (np.ceil(Z)-1)\n",
        "print (Z.astype(int))\n",
        "print (np.trunc(Z))"
      ],
      "execution_count": 52,
      "outputs": [
        {
          "output_type": "stream",
          "text": [
            "[2. 0. 2. 8. 1. 9. 3. 8. 3. 4.]\n",
            "[2. 0. 2. 8. 1. 9. 3. 8. 3. 4.]\n",
            "[2. 0. 2. 8. 1. 9. 3. 8. 3. 4.]\n",
            "[2 0 2 8 1 9 3 8 3 4]\n",
            "[2. 0. 2. 8. 1. 9. 3. 8. 3. 4.]\n"
          ],
          "name": "stdout"
        }
      ]
    },
    {
      "cell_type": "code",
      "metadata": {
        "id": "b6tFaR0r313C",
        "colab_type": "code",
        "colab": {
          "base_uri": "https://localhost:8080/",
          "height": 101
        },
        "outputId": "5c1a5917-3473-4c39-b8df-7edbb06fe815"
      },
      "source": [
        "#37. Create a 5x5 matrix with row values ranging from 0 to 4 (★★☆)\n",
        "Z = np.zeros((5,5))\n",
        "Z += np.arange(5)\n",
        "print(Z)"
      ],
      "execution_count": 3,
      "outputs": [
        {
          "output_type": "stream",
          "text": [
            "[[0. 1. 2. 3. 4.]\n",
            " [0. 1. 2. 3. 4.]\n",
            " [0. 1. 2. 3. 4.]\n",
            " [0. 1. 2. 3. 4.]\n",
            " [0. 1. 2. 3. 4.]]\n"
          ],
          "name": "stdout"
        }
      ]
    },
    {
      "cell_type": "code",
      "metadata": {
        "id": "HWkdxEcQZcR_",
        "colab_type": "code",
        "colab": {
          "base_uri": "https://localhost:8080/",
          "height": 34
        },
        "outputId": "bedbd794-2256-46af-8226-b8319cd66b43"
      },
      "source": [
        "#38. Consider a generator function that generates 10 integers and use it to build an array (★☆☆)\n",
        "def generate():\n",
        "    for x in range(10):\n",
        "        yield x\n",
        "Z = np.fromiter(generate(),dtype=float,count=-1)\n",
        "print(Z)"
      ],
      "execution_count": 4,
      "outputs": [
        {
          "output_type": "stream",
          "text": [
            "[0. 1. 2. 3. 4. 5. 6. 7. 8. 9.]\n"
          ],
          "name": "stdout"
        }
      ]
    },
    {
      "cell_type": "code",
      "metadata": {
        "id": "drwJYxBuZh2i",
        "colab_type": "code",
        "colab": {
          "base_uri": "https://localhost:8080/",
          "height": 50
        },
        "outputId": "5d97faef-ce31-416e-9d19-b8df16572973"
      },
      "source": [
        "#39. Create a vector of size 10 with values ranging from 0 to 1, both excluded (★★☆)\n",
        "Z = np.linspace(0,1,11,endpoint=False)[1:]\n",
        "print(Z)"
      ],
      "execution_count": 5,
      "outputs": [
        {
          "output_type": "stream",
          "text": [
            "[0.09090909 0.18181818 0.27272727 0.36363636 0.45454545 0.54545455\n",
            " 0.63636364 0.72727273 0.81818182 0.90909091]\n"
          ],
          "name": "stdout"
        }
      ]
    },
    {
      "cell_type": "code",
      "metadata": {
        "id": "MSfIXlM5Z5oC",
        "colab_type": "code",
        "colab": {
          "base_uri": "https://localhost:8080/",
          "height": 50
        },
        "outputId": "94749f27-4a41-4b9e-b584-2f5997889feb"
      },
      "source": [
        "#40. Create a random vector of size 10 and sort it (★★☆)\n",
        "Z = np.random.random(10)\n",
        "Z.sort()\n",
        "print(Z)"
      ],
      "execution_count": 6,
      "outputs": [
        {
          "output_type": "stream",
          "text": [
            "[0.03023805 0.04206002 0.22194335 0.24286759 0.28174978 0.28636984\n",
            " 0.49008079 0.55663922 0.74871131 0.76621242]\n"
          ],
          "name": "stdout"
        }
      ]
    },
    {
      "cell_type": "code",
      "metadata": {
        "id": "de7zJfjDZ-BU",
        "colab_type": "code",
        "colab": {
          "base_uri": "https://localhost:8080/",
          "height": 34
        },
        "outputId": "5bdac4b5-ef91-4dfc-b3ab-2aac356c4027"
      },
      "source": [
        "#41. How to sum a small array faster than np.sum? (★★☆)\n",
        "# Author: Evgeni Burovski\n",
        "\n",
        "Z = np.arange(10)\n",
        "np.add.reduce(Z)"
      ],
      "execution_count": 7,
      "outputs": [
        {
          "output_type": "execute_result",
          "data": {
            "text/plain": [
              "45"
            ]
          },
          "metadata": {
            "tags": []
          },
          "execution_count": 7
        }
      ]
    },
    {
      "cell_type": "code",
      "metadata": {
        "id": "-4wj6MkEaEI3",
        "colab_type": "code",
        "colab": {
          "base_uri": "https://localhost:8080/",
          "height": 50
        },
        "outputId": "31c8fc5f-0ad6-4d12-ba4d-6bf771c9cd01"
      },
      "source": [
        "#42. Consider two random array A and B, check if they are equal (★★☆)\n",
        "A = np.random.randint(0,2,5)\n",
        "B = np.random.randint(0,2,5)\n",
        "\n",
        "# Assuming identical shape of the arrays and a tolerance for the comparison of values\n",
        "equal = np.allclose(A,B)\n",
        "print(equal)\n",
        "\n",
        "# Checking both the shape and the element values, no tolerance (values have to be exactly equal)\n",
        "equal = np.array_equal(A,B)\n",
        "print(equal)\n"
      ],
      "execution_count": 8,
      "outputs": [
        {
          "output_type": "stream",
          "text": [
            "False\n",
            "False\n"
          ],
          "name": "stdout"
        }
      ]
    },
    {
      "cell_type": "code",
      "metadata": {
        "id": "rEtTQe-AbWN8",
        "colab_type": "code",
        "colab": {
          "base_uri": "https://localhost:8080/",
          "height": 84
        },
        "outputId": "304f6ffb-0ea5-4767-ede8-13f9759d71e4"
      },
      "source": [
        "#44. Consider a random 10x2 matrix representing cartesian coordinates, convert them to polar coordinates (★★☆)\n",
        "Z = np.random.random((10,2))\n",
        "X,Y = Z[:,0], Z[:,1]\n",
        "R = np.sqrt(X**2+Y**2)\n",
        "T = np.arctan2(Y,X)\n",
        "print(R)\n",
        "print(T)"
      ],
      "execution_count": 10,
      "outputs": [
        {
          "output_type": "stream",
          "text": [
            "[0.78562167 0.53548432 1.02206872 0.54250465 1.07422191 0.64393934\n",
            " 1.05779558 1.10799327 0.78223194 1.00702626]\n",
            "[1.12139421 0.68741752 1.04881333 0.34202931 0.92290574 1.51978981\n",
            " 0.94226543 0.92824188 0.67626704 0.35449992]\n"
          ],
          "name": "stdout"
        }
      ]
    },
    {
      "cell_type": "code",
      "metadata": {
        "id": "_XpGGEwDbhKB",
        "colab_type": "code",
        "colab": {
          "base_uri": "https://localhost:8080/",
          "height": 50
        },
        "outputId": "db1e56f7-242a-4070-bc85-041e89c22e5d"
      },
      "source": [
        "#45. Create random vector of size 10 and replace the maximum value by 0 (★★☆)\n",
        "Z = np.random.random(10)\n",
        "Z[Z.argmax()] = 0\n",
        "print(Z)"
      ],
      "execution_count": 11,
      "outputs": [
        {
          "output_type": "stream",
          "text": [
            "[0.75223177 0.6576956  0.55578533 0.35460376 0.09897731 0.3856883\n",
            " 0.26423386 0.3675461  0.         0.04050928]\n"
          ],
          "name": "stdout"
        }
      ]
    },
    {
      "cell_type": "code",
      "metadata": {
        "id": "zpaQOALFbkQm",
        "colab_type": "code",
        "colab": {
          "base_uri": "https://localhost:8080/",
          "height": 101
        },
        "outputId": "feb5d9cc-0316-438d-dfd3-4db642689370"
      },
      "source": [
        "#46. Create a structured array with x and y coordinates covering the [0,1]x[0,1] area (★★☆)\n",
        "Z = np.zeros((5,5), [('x',float),('y',float)])\n",
        "Z['x'], Z['y'] = np.meshgrid(np.linspace(0,1,5),\n",
        "                             np.linspace(0,1,5))\n",
        "print(Z)"
      ],
      "execution_count": 12,
      "outputs": [
        {
          "output_type": "stream",
          "text": [
            "[[(0.  , 0.  ) (0.25, 0.  ) (0.5 , 0.  ) (0.75, 0.  ) (1.  , 0.  )]\n",
            " [(0.  , 0.25) (0.25, 0.25) (0.5 , 0.25) (0.75, 0.25) (1.  , 0.25)]\n",
            " [(0.  , 0.5 ) (0.25, 0.5 ) (0.5 , 0.5 ) (0.75, 0.5 ) (1.  , 0.5 )]\n",
            " [(0.  , 0.75) (0.25, 0.75) (0.5 , 0.75) (0.75, 0.75) (1.  , 0.75)]\n",
            " [(0.  , 1.  ) (0.25, 1.  ) (0.5 , 1.  ) (0.75, 1.  ) (1.  , 1.  )]]\n"
          ],
          "name": "stdout"
        }
      ]
    },
    {
      "cell_type": "code",
      "metadata": {
        "id": "U7_eIMw1bnxq",
        "colab_type": "code",
        "colab": {
          "base_uri": "https://localhost:8080/",
          "height": 34
        },
        "outputId": "a6228024-afd2-48e4-ee43-9645c2f7e26b"
      },
      "source": [
        "#47. Given two arrays, X and Y, construct the Cauchy matrix C (Cij =1/(xi - yj))\n",
        "# Author: Evgeni Burovski\n",
        "\n",
        "X = np.arange(8)\n",
        "Y = X + 0.5\n",
        "C = 1.0 / np.subtract.outer(X, Y)\n",
        "print(np.linalg.det(C))"
      ],
      "execution_count": 13,
      "outputs": [
        {
          "output_type": "stream",
          "text": [
            "3638.163637117973\n"
          ],
          "name": "stdout"
        }
      ]
    },
    {
      "cell_type": "code",
      "metadata": {
        "id": "mMtdxpmLbrJc",
        "colab_type": "code",
        "colab": {
          "base_uri": "https://localhost:8080/",
          "height": 218
        },
        "outputId": "a5497440-5174-4e37-be1d-6cdd028beb2c"
      },
      "source": [
        "#48. Print the minimum and maximum representable value for each numpy scalar type (★★☆)\n",
        "for dtype in [np.int8, np.int32, np.int64]:\n",
        "   print(np.iinfo(dtype).min)\n",
        "   print(np.iinfo(dtype).max)\n",
        "for dtype in [np.float32, np.float64]:\n",
        "   print(np.finfo(dtype).min)\n",
        "   print(np.finfo(dtype).max)\n",
        "   print(np.finfo(dtype).eps)"
      ],
      "execution_count": 14,
      "outputs": [
        {
          "output_type": "stream",
          "text": [
            "-128\n",
            "127\n",
            "-2147483648\n",
            "2147483647\n",
            "-9223372036854775808\n",
            "9223372036854775807\n",
            "-3.4028235e+38\n",
            "3.4028235e+38\n",
            "1.1920929e-07\n",
            "-1.7976931348623157e+308\n",
            "1.7976931348623157e+308\n",
            "2.220446049250313e-16\n"
          ],
          "name": "stdout"
        }
      ]
    },
    {
      "cell_type": "code",
      "metadata": {
        "id": "lO0Xf-9nby7x",
        "colab_type": "code",
        "colab": {
          "base_uri": "https://localhost:8080/",
          "height": 34
        },
        "outputId": "02f20440-9d70-465b-f067-9ee18a622549"
      },
      "source": [
        "#50. How to find the closest value (to a given scalar) in a vector? (★★☆)\n",
        "Z = np.arange(100)\n",
        "v = np.random.uniform(0,100)\n",
        "index = (np.abs(Z-v)).argmin()\n",
        "print(Z[index])"
      ],
      "execution_count": 16,
      "outputs": [
        {
          "output_type": "stream",
          "text": [
            "31\n"
          ],
          "name": "stdout"
        }
      ]
    },
    {
      "cell_type": "code",
      "metadata": {
        "id": "TWJuHzyob5m3",
        "colab_type": "code",
        "colab": {
          "base_uri": "https://localhost:8080/",
          "height": 154
        },
        "outputId": "457973dd-323b-45f7-f46a-45cea2221b01"
      },
      "source": [
        "#51. Create a structured array representing a position (x,y) and a color (r,g,b) (★★☆)\n",
        "Z = np.zeros(10, [ ('position', [ ('x', float, 1),\n",
        "                                  ('y', float, 1)]),\n",
        "                   ('color',    [ ('r', float, 1),\n",
        "                                  ('g', float, 1),\n",
        "                                  ('b', float, 1)])])\n",
        "print(Z)"
      ],
      "execution_count": 18,
      "outputs": [
        {
          "output_type": "stream",
          "text": [
            "[((0., 0.), (0., 0., 0.)) ((0., 0.), (0., 0., 0.))\n",
            " ((0., 0.), (0., 0., 0.)) ((0., 0.), (0., 0., 0.))\n",
            " ((0., 0.), (0., 0., 0.)) ((0., 0.), (0., 0., 0.))\n",
            " ((0., 0.), (0., 0., 0.)) ((0., 0.), (0., 0., 0.))\n",
            " ((0., 0.), (0., 0., 0.)) ((0., 0.), (0., 0., 0.))]\n"
          ],
          "name": "stdout"
        },
        {
          "output_type": "stream",
          "text": [
            "/usr/local/lib/python3.6/dist-packages/ipykernel_launcher.py:6: FutureWarning: Passing (type, 1) or '1type' as a synonym of type is deprecated; in a future version of numpy, it will be understood as (type, (1,)) / '(1,)type'.\n",
            "  \n"
          ],
          "name": "stderr"
        }
      ]
    },
    {
      "cell_type": "code",
      "metadata": {
        "id": "SAwoZCUxcAdP",
        "colab_type": "code",
        "colab": {
          "base_uri": "https://localhost:8080/",
          "height": 689
        },
        "outputId": "1c4e061a-911d-4e76-e9c4-2da179c4225b"
      },
      "source": [
        "#52. Consider a random vector with shape (100,2) representing coordinates, find point by point distances (★★☆)\n",
        "Z = np.random.random((10,2))\n",
        "X,Y = np.atleast_2d(Z[:,0], Z[:,1])\n",
        "D = np.sqrt( (X-X.T)**2 + (Y-Y.T)**2)\n",
        "print(D)\n",
        "\n",
        "# Much faster with scipy\n",
        "import scipy\n",
        "# Thanks Gavin Heverly-Coulson (#issue 1)\n",
        "import scipy.spatial\n",
        "\n",
        "Z = np.random.random((10,2))\n",
        "D = scipy.spatial.distance.cdist(Z,Z)\n",
        "print(D)"
      ],
      "execution_count": 19,
      "outputs": [
        {
          "output_type": "stream",
          "text": [
            "[[0.         0.4077022  0.37708286 0.25078976 0.51724835 0.66411491\n",
            "  0.2154398  0.43669115 0.38485941 0.36917996]\n",
            " [0.4077022  0.         0.6231566  0.42462196 0.28044268 0.55023612\n",
            "  0.57584655 0.36801518 0.51593733 0.19228898]\n",
            " [0.37708286 0.6231566  0.         0.19865103 0.54025381 1.0277984\n",
            "  0.52483545 0.796959   0.7608135  0.46440102]\n",
            " [0.25078976 0.42462196 0.19865103 0.         0.37732485 0.85247999\n",
            "  0.45165222 0.62259373 0.62384378 0.27476136]\n",
            " [0.51724835 0.28044268 0.54025381 0.37732485 0.         0.83055143\n",
            "  0.72767609 0.64225543 0.75926731 0.15207355]\n",
            " [0.66411491 0.55023612 1.0277984  0.85247999 0.83055143 0.\n",
            "  0.64986311 0.23089803 0.35687984 0.72465214]\n",
            " [0.2154398  0.57584655 0.52483545 0.45165222 0.72767609 0.64986311\n",
            "  0.         0.45603124 0.30197429 0.57694576]\n",
            " [0.43669115 0.36801518 0.796959   0.62259373 0.64225543 0.23089803\n",
            "  0.45603124 0.         0.21601485 0.51866076]\n",
            " [0.38485941 0.51593733 0.7608135  0.62384378 0.75926731 0.35687984\n",
            "  0.30197429 0.21601485 0.         0.61500162]\n",
            " [0.36917996 0.19228898 0.46440102 0.27476136 0.15207355 0.72465214\n",
            "  0.57694576 0.51866076 0.61500162 0.        ]]\n",
            "[[0.         0.5337534  0.29135541 0.64569508 0.81779432 0.28245891\n",
            "  0.61004345 0.70741165 0.94179916 0.93402853]\n",
            " [0.5337534  0.         0.26211545 0.44229481 0.29364656 0.55753431\n",
            "  0.30389048 0.18693515 0.57715163 0.40043117]\n",
            " [0.29135541 0.26211545 0.         0.5462691  0.53089817 0.42054384\n",
            "  0.45063924 0.42093924 0.77754314 0.65777214]\n",
            " [0.64569508 0.44229481 0.5462691  0.         0.62910209 0.45307431\n",
            "  0.14515556 0.56607134 0.32190368 0.62504969]\n",
            " [0.81779432 0.29364656 0.53089817 0.62910209 0.         0.8472235\n",
            "  0.48701303 0.11038273 0.61189036 0.16165845]\n",
            " [0.28245891 0.55753431 0.42054384 0.45307431 0.8472235  0.\n",
            "  0.47926114 0.74399437 0.77389183 0.92183772]\n",
            " [0.61004345 0.30389048 0.45063924 0.14515556 0.48701303 0.47926114\n",
            "  0.         0.42099684 0.33512722 0.49751812]\n",
            " [0.70741165 0.18693515 0.42093924 0.56607134 0.11038273 0.74399437\n",
            "  0.42099684 0.         0.60446956 0.24949854]\n",
            " [0.94179916 0.57715163 0.77754314 0.32190368 0.61189036 0.77389183\n",
            "  0.33512722 0.60446956 0.         0.52576746]\n",
            " [0.93402853 0.40043117 0.65777214 0.62504969 0.16165845 0.92183772\n",
            "  0.49751812 0.24949854 0.52576746 0.        ]]\n"
          ],
          "name": "stdout"
        }
      ]
    },
    {
      "cell_type": "code",
      "metadata": {
        "id": "DQkfac1UcFkD",
        "colab_type": "code",
        "colab": {
          "base_uri": "https://localhost:8080/",
          "height": 34
        },
        "outputId": "6cedae56-9a07-4b22-f163-399d81aadc7b"
      },
      "source": [
        "#53. How to convert a float (32 bits) array into an integer (32 bits) in place?\n",
        "# Thanks Vikas (https://stackoverflow.com/a/10622758/5989906)\n",
        "# & unutbu (https://stackoverflow.com/a/4396247/5989906)\n",
        "Z = (np.random.rand(10)*100).astype(np.float32)\n",
        "Y = Z.view(np.int32)\n",
        "Y[:] = Z\n",
        "print(Y)"
      ],
      "execution_count": 20,
      "outputs": [
        {
          "output_type": "stream",
          "text": [
            "[66  6 83 86 91 72 52 38 98 85]\n"
          ],
          "name": "stdout"
        }
      ]
    },
    {
      "cell_type": "code",
      "metadata": {
        "id": "AN7HLpbUcOeg",
        "colab_type": "code",
        "colab": {}
      },
      "source": [
        "#54. How to read the following file? (★★☆)\n",
        "1, 2, 3, 4, 5\n",
        "6,  ,  , 7, 8\n",
        " ,  , 9,10,11"
      ],
      "execution_count": 0,
      "outputs": []
    },
    {
      "cell_type": "code",
      "metadata": {
        "id": "Ug9SQo-hcRbL",
        "colab_type": "code",
        "colab": {
          "base_uri": "https://localhost:8080/",
          "height": 67
        },
        "outputId": "479094b6-1774-4fec-8bf4-dd2de02708d7"
      },
      "source": [
        "from io import StringIO\n",
        "\n",
        "# Fake file\n",
        "s = StringIO('''1, 2, 3, 4, 5\n",
        "\n",
        "                6,  ,  , 7, 8\n",
        "\n",
        "                 ,  , 9,10,11\n",
        "''')\n",
        "Z = np.genfromtxt(s, delimiter=\",\", dtype=np.int)\n",
        "print(Z)"
      ],
      "execution_count": 22,
      "outputs": [
        {
          "output_type": "stream",
          "text": [
            "[[ 1  2  3  4  5]\n",
            " [ 6 -1 -1  7  8]\n",
            " [-1 -1  9 10 11]]\n"
          ],
          "name": "stdout"
        }
      ]
    },
    {
      "cell_type": "code",
      "metadata": {
        "id": "OEqgkc_ocV-E",
        "colab_type": "code",
        "colab": {
          "base_uri": "https://localhost:8080/",
          "height": 319
        },
        "outputId": "4aa1de32-9560-4516-d309-ab01084a8935"
      },
      "source": [
        "#55. What is the equivalent of enumerate for numpy arrays? (★★☆)\n",
        "Z = np.arange(9).reshape(3,3)\n",
        "for index, value in np.ndenumerate(Z):\n",
        "    print(index, value)\n",
        "for index in np.ndindex(Z.shape):\n",
        "    print(index, Z[index])"
      ],
      "execution_count": 23,
      "outputs": [
        {
          "output_type": "stream",
          "text": [
            "(0, 0) 0\n",
            "(0, 1) 1\n",
            "(0, 2) 2\n",
            "(1, 0) 3\n",
            "(1, 1) 4\n",
            "(1, 2) 5\n",
            "(2, 0) 6\n",
            "(2, 1) 7\n",
            "(2, 2) 8\n",
            "(0, 0) 0\n",
            "(0, 1) 1\n",
            "(0, 2) 2\n",
            "(1, 0) 3\n",
            "(1, 1) 4\n",
            "(1, 2) 5\n",
            "(2, 0) 6\n",
            "(2, 1) 7\n",
            "(2, 2) 8\n"
          ],
          "name": "stdout"
        }
      ]
    },
    {
      "cell_type": "code",
      "metadata": {
        "id": "i4sRI7O-cZTp",
        "colab_type": "code",
        "colab": {
          "base_uri": "https://localhost:8080/",
          "height": 353
        },
        "outputId": "d3722a57-22d4-4424-f67f-4778e53f605b"
      },
      "source": [
        "#56. Generate a generic 2D Gaussian-like array (★★☆)\n",
        "X, Y = np.meshgrid(np.linspace(-1,1,10), np.linspace(-1,1,10))\n",
        "D = np.sqrt(X*X+Y*Y)\n",
        "sigma, mu = 1.0, 0.0\n",
        "G = np.exp(-( (D-mu)**2 / ( 2.0 * sigma**2 ) ) )\n",
        "print(G)"
      ],
      "execution_count": 24,
      "outputs": [
        {
          "output_type": "stream",
          "text": [
            "[[0.36787944 0.44822088 0.51979489 0.57375342 0.60279818 0.60279818\n",
            "  0.57375342 0.51979489 0.44822088 0.36787944]\n",
            " [0.44822088 0.54610814 0.63331324 0.69905581 0.73444367 0.73444367\n",
            "  0.69905581 0.63331324 0.54610814 0.44822088]\n",
            " [0.51979489 0.63331324 0.73444367 0.81068432 0.85172308 0.85172308\n",
            "  0.81068432 0.73444367 0.63331324 0.51979489]\n",
            " [0.57375342 0.69905581 0.81068432 0.89483932 0.9401382  0.9401382\n",
            "  0.89483932 0.81068432 0.69905581 0.57375342]\n",
            " [0.60279818 0.73444367 0.85172308 0.9401382  0.98773022 0.98773022\n",
            "  0.9401382  0.85172308 0.73444367 0.60279818]\n",
            " [0.60279818 0.73444367 0.85172308 0.9401382  0.98773022 0.98773022\n",
            "  0.9401382  0.85172308 0.73444367 0.60279818]\n",
            " [0.57375342 0.69905581 0.81068432 0.89483932 0.9401382  0.9401382\n",
            "  0.89483932 0.81068432 0.69905581 0.57375342]\n",
            " [0.51979489 0.63331324 0.73444367 0.81068432 0.85172308 0.85172308\n",
            "  0.81068432 0.73444367 0.63331324 0.51979489]\n",
            " [0.44822088 0.54610814 0.63331324 0.69905581 0.73444367 0.73444367\n",
            "  0.69905581 0.63331324 0.54610814 0.44822088]\n",
            " [0.36787944 0.44822088 0.51979489 0.57375342 0.60279818 0.60279818\n",
            "  0.57375342 0.51979489 0.44822088 0.36787944]]\n"
          ],
          "name": "stdout"
        }
      ]
    },
    {
      "cell_type": "code",
      "metadata": {
        "id": "YvJSL-zMcemk",
        "colab_type": "code",
        "colab": {
          "base_uri": "https://localhost:8080/",
          "height": 185
        },
        "outputId": "8498c5dd-0475-40ec-8d17-a47319b212f1"
      },
      "source": [
        "#57. How to randomly place p elements in a 2D array? (★★☆)\n",
        "# Author: Divakar\n",
        "\n",
        "n = 10\n",
        "p = 3\n",
        "Z = np.zeros((n,n))\n",
        "np.put(Z, np.random.choice(range(n*n), p, replace=False),1)\n",
        "print(Z)"
      ],
      "execution_count": 25,
      "outputs": [
        {
          "output_type": "stream",
          "text": [
            "[[0. 0. 0. 0. 0. 0. 0. 0. 0. 0.]\n",
            " [0. 0. 0. 0. 0. 0. 0. 0. 0. 0.]\n",
            " [0. 0. 0. 0. 0. 0. 0. 0. 0. 1.]\n",
            " [0. 0. 1. 0. 0. 0. 0. 0. 0. 0.]\n",
            " [0. 0. 0. 0. 0. 0. 0. 0. 0. 0.]\n",
            " [0. 0. 0. 0. 0. 0. 0. 0. 0. 0.]\n",
            " [0. 0. 0. 0. 0. 0. 0. 1. 0. 0.]\n",
            " [0. 0. 0. 0. 0. 0. 0. 0. 0. 0.]\n",
            " [0. 0. 0. 0. 0. 0. 0. 0. 0. 0.]\n",
            " [0. 0. 0. 0. 0. 0. 0. 0. 0. 0.]]\n"
          ],
          "name": "stdout"
        }
      ]
    },
    {
      "cell_type": "code",
      "metadata": {
        "id": "-c8KBoGOch2I",
        "colab_type": "code",
        "colab": {
          "base_uri": "https://localhost:8080/",
          "height": 185
        },
        "outputId": "575f9f66-ca02-487e-eea8-339b7004d0bd"
      },
      "source": [
        "#58. Subtract the mean of each row of a matrix (★★☆)\n",
        "# Author: Warren Weckesser\n",
        "\n",
        "X = np.random.rand(5, 10)\n",
        "\n",
        "# Recent versions of numpy\n",
        "Y = X - X.mean(axis=1, keepdims=True)\n",
        "\n",
        "# Older versions of numpy\n",
        "Y = X - X.mean(axis=1).reshape(-1, 1)\n",
        "\n",
        "print(Y)"
      ],
      "execution_count": 26,
      "outputs": [
        {
          "output_type": "stream",
          "text": [
            "[[-0.51325204  0.40016811  0.20389204  0.16244106 -0.20926646 -0.4094329\n",
            "  -0.11533028  0.08089667  0.43111562 -0.03123183]\n",
            " [ 0.2947128   0.0878118  -0.28270528 -0.30432398 -0.49556985  0.1782792\n",
            "  -0.19782955  0.07370452  0.23920759  0.40671275]\n",
            " [-0.4800444   0.30971027 -0.19656662  0.26030936  0.21433796 -0.1401219\n",
            "   0.21013214  0.03089631 -0.08437312 -0.12427999]\n",
            " [-0.19225946 -0.20155205 -0.19711899 -0.35653382 -0.21937762 -0.11582728\n",
            "   0.31196293  0.42451951  0.509081    0.0371058 ]\n",
            " [ 0.2008398   0.04958955  0.41359876 -0.24382241 -0.20462867 -0.52476453\n",
            "   0.37488397  0.24916508 -0.4469891   0.13212755]]\n"
          ],
          "name": "stdout"
        }
      ]
    },
    {
      "cell_type": "code",
      "metadata": {
        "id": "9UQBueV8ck-9",
        "colab_type": "code",
        "colab": {
          "base_uri": "https://localhost:8080/",
          "height": 118
        },
        "outputId": "32c4f8a6-5e2b-4fe3-92de-d2173dc08343"
      },
      "source": [
        "#59. How to sort an array by the nth column? (★★☆)\n",
        "# Author: Steve Tjoa\n",
        "\n",
        "Z = np.random.randint(0,10,(3,3))\n",
        "print(Z)\n",
        "print(Z[Z[:,1].argsort()])"
      ],
      "execution_count": 27,
      "outputs": [
        {
          "output_type": "stream",
          "text": [
            "[[7 0 5]\n",
            " [7 0 5]\n",
            " [4 4 3]]\n",
            "[[7 0 5]\n",
            " [7 0 5]\n",
            " [4 4 3]]\n"
          ],
          "name": "stdout"
        }
      ]
    },
    {
      "cell_type": "code",
      "metadata": {
        "id": "TYVhpIU2cn5f",
        "colab_type": "code",
        "colab": {
          "base_uri": "https://localhost:8080/",
          "height": 34
        },
        "outputId": "f8ef4112-71c9-4af8-e790-ac6a664e23d4"
      },
      "source": [
        "#60. How to tell if a given 2D array has null columns? (★★☆)\n",
        "# Author: Warren Weckesser\n",
        "\n",
        "Z = np.random.randint(0,3,(3,10))\n",
        "print((~Z.any(axis=0)).any())"
      ],
      "execution_count": 28,
      "outputs": [
        {
          "output_type": "stream",
          "text": [
            "False\n"
          ],
          "name": "stdout"
        }
      ]
    },
    {
      "cell_type": "code",
      "metadata": {
        "id": "vDuggDgXcqn_",
        "colab_type": "code",
        "colab": {
          "base_uri": "https://localhost:8080/",
          "height": 34
        },
        "outputId": "01402087-3c10-4f87-8190-807fa8a096a3"
      },
      "source": [
        "#61. Find the nearest value from a given value in an array (★★☆)\n",
        "Z = np.random.uniform(0,1,10)\n",
        "z = 0.5\n",
        "m = Z.flat[np.abs(Z - z).argmin()]\n",
        "print(m)"
      ],
      "execution_count": 29,
      "outputs": [
        {
          "output_type": "stream",
          "text": [
            "0.5613989221707729\n"
          ],
          "name": "stdout"
        }
      ]
    },
    {
      "cell_type": "code",
      "metadata": {
        "id": "JWog45ZvctSH",
        "colab_type": "code",
        "colab": {
          "base_uri": "https://localhost:8080/",
          "height": 67
        },
        "outputId": "587a9cd7-c824-459a-edff-07a3e49cd213"
      },
      "source": [
        "#62. Considering two arrays with shape (1,3) and (3,1), how to compute their sum using an iterator? (★★☆)\n",
        "A = np.arange(3).reshape(3,1)\n",
        "B = np.arange(3).reshape(1,3)\n",
        "it = np.nditer([A,B,None])\n",
        "for x,y,z in it: z[...] = x + y\n",
        "print(it.operands[2])"
      ],
      "execution_count": 30,
      "outputs": [
        {
          "output_type": "stream",
          "text": [
            "[[0 1 2]\n",
            " [1 2 3]\n",
            " [2 3 4]]\n"
          ],
          "name": "stdout"
        }
      ]
    },
    {
      "cell_type": "code",
      "metadata": {
        "id": "jxJl9AU2cwXO",
        "colab_type": "code",
        "colab": {
          "base_uri": "https://localhost:8080/",
          "height": 34
        },
        "outputId": "a2316290-06f0-4cf6-dccd-01e1e74d4551"
      },
      "source": [
        "#63. Create an array class that has a name attribute (★★☆)\n",
        "class NamedArray(np.ndarray):\n",
        "    def __new__(cls, array, name=\"no name\"):\n",
        "        obj = np.asarray(array).view(cls)\n",
        "        obj.name = name\n",
        "        return obj\n",
        "    def __array_finalize__(self, obj):\n",
        "        if obj is None: return\n",
        "        self.info = getattr(obj, 'name', \"no name\")\n",
        "\n",
        "Z = NamedArray(np.arange(10), \"range_10\")\n",
        "print (Z.name)"
      ],
      "execution_count": 31,
      "outputs": [
        {
          "output_type": "stream",
          "text": [
            "range_10\n"
          ],
          "name": "stdout"
        }
      ]
    },
    {
      "cell_type": "code",
      "metadata": {
        "id": "lKbQtlJcc1q9",
        "colab_type": "code",
        "colab": {
          "base_uri": "https://localhost:8080/",
          "height": 50
        },
        "outputId": "58564222-dcd0-4aac-defb-37061046e58e"
      },
      "source": [
        "#64. Consider a given vector, how to add 1 to each element indexed by a second vector (be careful with repeated indices)? (★★★)\n",
        "# Author: Brett Olsen\n",
        "\n",
        "Z = np.ones(10)\n",
        "I = np.random.randint(0,len(Z),20)\n",
        "Z += np.bincount(I, minlength=len(Z))\n",
        "print(Z)\n",
        "\n",
        "# Another solution\n",
        "# Author: Bartosz Telenczuk\n",
        "np.add.at(Z, I, 1)\n",
        "print(Z)"
      ],
      "execution_count": 32,
      "outputs": [
        {
          "output_type": "stream",
          "text": [
            "[2. 1. 1. 3. 3. 9. 2. 3. 1. 5.]\n",
            "[ 3.  1.  1.  5.  5. 17.  3.  5.  1.  9.]\n"
          ],
          "name": "stdout"
        }
      ]
    },
    {
      "cell_type": "code",
      "metadata": {
        "id": "sJIp1kP9eiol",
        "colab_type": "code",
        "colab": {
          "base_uri": "https://localhost:8080/",
          "height": 34
        },
        "outputId": "8ab0f00e-7f2d-4a45-a039-f14ff867023c"
      },
      "source": [
        "#65. How to accumulate elements of a vector (X) to an array (F) based on an index list (I)? (★★★)\n",
        "# Author: Alan G Isaac\n",
        "\n",
        "X = [1,2,3,4,5,6]\n",
        "I = [1,3,9,3,4,1]\n",
        "F = np.bincount(I,X)\n",
        "print(F)"
      ],
      "execution_count": 33,
      "outputs": [
        {
          "output_type": "stream",
          "text": [
            "[0. 7. 0. 6. 5. 0. 0. 0. 0. 3.]\n"
          ],
          "name": "stdout"
        }
      ]
    },
    {
      "cell_type": "code",
      "metadata": {
        "id": "70Nja8bXemFR",
        "colab_type": "code",
        "colab": {
          "base_uri": "https://localhost:8080/",
          "height": 34
        },
        "outputId": "e31fc59c-8eb8-4794-e59c-eae311eb2687"
      },
      "source": [
        "#66. Considering a (w,h,3) image of (dtype=ubyte), compute the number of unique colors (★★★)\n",
        "# Author: Nadav Horesh\n",
        "\n",
        "w,h = 16,16\n",
        "I = np.random.randint(0,2,(h,w,3)).astype(np.ubyte)\n",
        "F = I[...,0]*256*256 + I[...,1]*256 +I[...,2]\n",
        "n = len(np.unique(F))\n",
        "print(np.unique(I))\n"
      ],
      "execution_count": 34,
      "outputs": [
        {
          "output_type": "stream",
          "text": [
            "[0 1]\n"
          ],
          "name": "stdout"
        }
      ]
    },
    {
      "cell_type": "code",
      "metadata": {
        "id": "jWX9S1iTeo4w",
        "colab_type": "code",
        "colab": {
          "base_uri": "https://localhost:8080/",
          "height": 118
        },
        "outputId": "91e3e3fe-571a-4ca8-99b5-d8a3667245d6"
      },
      "source": [
        "#67. Considering a four dimensions array, how to get sum over the last two axis at once? (★★★)\n",
        "A = np.random.randint(0,10,(3,4,3,4))\n",
        "# solution by passing a tuple of axes (introduced in numpy 1.7.0)\n",
        "sum = A.sum(axis=(-2,-1))\n",
        "print(sum)\n",
        "# solution by flattening the last two dimensions into one\n",
        "# (useful for functions that don't accept tuples for axis argument)\n",
        "sum = A.reshape(A.shape[:-2] + (-1,)).sum(axis=-1)\n",
        "print(sum)"
      ],
      "execution_count": 35,
      "outputs": [
        {
          "output_type": "stream",
          "text": [
            "[[43 47 52 40]\n",
            " [79 43 62 57]\n",
            " [45 52 72 46]]\n",
            "[[43 47 52 40]\n",
            " [79 43 62 57]\n",
            " [45 52 72 46]]\n"
          ],
          "name": "stdout"
        }
      ]
    },
    {
      "cell_type": "code",
      "metadata": {
        "id": "meF8yi56esSz",
        "colab_type": "code",
        "colab": {
          "base_uri": "https://localhost:8080/",
          "height": 235
        },
        "outputId": "ecc48a59-5bf6-4e15-8887-096e0a14c473"
      },
      "source": [
        "#68. Considering a one-dimensional vector D, how to compute means of subsets of D using a vector S of same size describing subset indices? (★★★)\n",
        "# Author: Jaime Fernández del Río\n",
        "\n",
        "D = np.random.uniform(0,1,100)\n",
        "S = np.random.randint(0,10,100)\n",
        "D_sums = np.bincount(S, weights=D)\n",
        "D_counts = np.bincount(S)\n",
        "D_means = D_sums / D_counts\n",
        "print(D_means)\n",
        "\n",
        "# Pandas solution as a reference due to more intuitive code\n",
        "import pandas as pd\n",
        "print(pd.Series(D).groupby(S).mean())"
      ],
      "execution_count": 37,
      "outputs": [
        {
          "output_type": "stream",
          "text": [
            "[0.63070616 0.61776048 0.36422678 0.50748789 0.65170572 0.64468278\n",
            " 0.5320893  0.49389587 0.39968576 0.50867553]\n",
            "0    0.630706\n",
            "1    0.617760\n",
            "2    0.364227\n",
            "3    0.507488\n",
            "4    0.651706\n",
            "5    0.644683\n",
            "6    0.532089\n",
            "7    0.493896\n",
            "8    0.399686\n",
            "9    0.508676\n",
            "dtype: float64\n"
          ],
          "name": "stdout"
        }
      ]
    },
    {
      "cell_type": "code",
      "metadata": {
        "id": "xYtNxXCae7os",
        "colab_type": "code",
        "colab": {
          "base_uri": "https://localhost:8080/",
          "height": 34
        },
        "outputId": "886d102c-2538-44e6-bf83-393fd16fd7b1"
      },
      "source": [
        "#69. How to get the diagonal of a dot product? (★★★)\n",
        "# Author: Mathieu Blondel\n",
        "\n",
        "A = np.random.uniform(0,1,(5,5))\n",
        "B = np.random.uniform(0,1,(5,5))\n",
        "\n",
        "# Slow version  \n",
        "np.diag(np.dot(A, B))\n",
        "\n",
        "# Fast version\n",
        "np.sum(A * B.T, axis=1)\n",
        "\n",
        "# Faster version\n",
        "np.einsum(\"ij,ji->i\", A, B)"
      ],
      "execution_count": 38,
      "outputs": [
        {
          "output_type": "execute_result",
          "data": {
            "text/plain": [
              "array([2.67360836, 1.53259183, 0.75858784, 0.74408757, 2.3751376 ])"
            ]
          },
          "metadata": {
            "tags": []
          },
          "execution_count": 38
        }
      ]
    },
    {
      "cell_type": "code",
      "metadata": {
        "id": "y_LOLxbJe_m0",
        "colab_type": "code",
        "colab": {
          "base_uri": "https://localhost:8080/",
          "height": 34
        },
        "outputId": "14eba28b-b0de-4613-8127-da5082d2b063"
      },
      "source": [
        "#70. Consider the vector [1, 2, 3, 4, 5], how to build a new vector with 3 consecutive zeros interleaved between each value? (★★★)\n",
        "# Author: Warren Weckesser\n",
        "\n",
        "Z = np.array([1,2,3,4,5])\n",
        "nz = 3\n",
        "Z0 = np.zeros(len(Z) + (len(Z)-1)*(nz))\n",
        "Z0[::nz+1] = Z\n",
        "print(Z0)"
      ],
      "execution_count": 39,
      "outputs": [
        {
          "output_type": "stream",
          "text": [
            "[1. 0. 0. 0. 2. 0. 0. 0. 3. 0. 0. 0. 4. 0. 0. 0. 5.]\n"
          ],
          "name": "stdout"
        }
      ]
    },
    {
      "cell_type": "code",
      "metadata": {
        "id": "-Y_GhcgCfCk-",
        "colab_type": "code",
        "colab": {
          "base_uri": "https://localhost:8080/",
          "height": 504
        },
        "outputId": "a62d613f-2f74-4b93-fa6b-ae27a0697026"
      },
      "source": [
        "#71. Consider an array of dimension (5,5,3), how to mulitply it by an array with dimensions (5,5)? (★★★)\n",
        "A = np.ones((5,5,3))\n",
        "B = 2*np.ones((5,5))\n",
        "print(A * B[:,:,None])"
      ],
      "execution_count": 40,
      "outputs": [
        {
          "output_type": "stream",
          "text": [
            "[[[2. 2. 2.]\n",
            "  [2. 2. 2.]\n",
            "  [2. 2. 2.]\n",
            "  [2. 2. 2.]\n",
            "  [2. 2. 2.]]\n",
            "\n",
            " [[2. 2. 2.]\n",
            "  [2. 2. 2.]\n",
            "  [2. 2. 2.]\n",
            "  [2. 2. 2.]\n",
            "  [2. 2. 2.]]\n",
            "\n",
            " [[2. 2. 2.]\n",
            "  [2. 2. 2.]\n",
            "  [2. 2. 2.]\n",
            "  [2. 2. 2.]\n",
            "  [2. 2. 2.]]\n",
            "\n",
            " [[2. 2. 2.]\n",
            "  [2. 2. 2.]\n",
            "  [2. 2. 2.]\n",
            "  [2. 2. 2.]\n",
            "  [2. 2. 2.]]\n",
            "\n",
            " [[2. 2. 2.]\n",
            "  [2. 2. 2.]\n",
            "  [2. 2. 2.]\n",
            "  [2. 2. 2.]\n",
            "  [2. 2. 2.]]]\n"
          ],
          "name": "stdout"
        }
      ]
    },
    {
      "cell_type": "code",
      "metadata": {
        "id": "fJJCliewfGWU",
        "colab_type": "code",
        "colab": {
          "base_uri": "https://localhost:8080/",
          "height": 101
        },
        "outputId": "94482bf7-cb8a-426e-b53b-d061a07e48d4"
      },
      "source": [
        "#72. How to swap two rows of an array? (★★★)\n",
        "# Author: Eelco Hoogendoorn\n",
        "\n",
        "A = np.arange(25).reshape(5,5)\n",
        "A[[0,1]] = A[[1,0]]\n",
        "print(A)"
      ],
      "execution_count": 41,
      "outputs": [
        {
          "output_type": "stream",
          "text": [
            "[[ 5  6  7  8  9]\n",
            " [ 0  1  2  3  4]\n",
            " [10 11 12 13 14]\n",
            " [15 16 17 18 19]\n",
            " [20 21 22 23 24]]\n"
          ],
          "name": "stdout"
        }
      ]
    },
    {
      "cell_type": "code",
      "metadata": {
        "id": "KhVAEk5jfI-v",
        "colab_type": "code",
        "colab": {
          "base_uri": "https://localhost:8080/",
          "height": 84
        },
        "outputId": "9a27803c-3840-4a48-cdbf-bdb231836aba"
      },
      "source": [
        "#73. Consider a set of 10 triplets describing 10 triangles (with shared vertices), find the set of unique line segments composing all the triangles (★★★)\n",
        "# Author: Nicolas P. Rougier\n",
        "\n",
        "faces = np.random.randint(0,100,(10,3))\n",
        "F = np.roll(faces.repeat(2,axis=1),-1,axis=1)\n",
        "F = F.reshape(len(F)*3,2)\n",
        "F = np.sort(F,axis=1)\n",
        "G = F.view( dtype=[('p0',F.dtype),('p1',F.dtype)] )\n",
        "G = np.unique(G)\n",
        "print(G)"
      ],
      "execution_count": 42,
      "outputs": [
        {
          "output_type": "stream",
          "text": [
            "[( 1, 15) ( 1, 87) ( 7, 89) ( 9, 14) ( 9, 97) (10, 21) (10, 49) (12, 34)\n",
            " (12, 97) (14, 53) (14, 68) (14, 97) (15, 87) (20, 41) (20, 68) (21, 47)\n",
            " (21, 48) (21, 49) (26, 68) (26, 79) (34, 97) (41, 68) (44, 60) (44, 65)\n",
            " (47, 48) (53, 68) (60, 65) (68, 79) (89, 89)]\n"
          ],
          "name": "stdout"
        }
      ]
    },
    {
      "cell_type": "code",
      "metadata": {
        "id": "rpyJTW1EfL4V",
        "colab_type": "code",
        "colab": {
          "base_uri": "https://localhost:8080/",
          "height": 34
        },
        "outputId": "2a82a5b9-8e87-480d-d720-084112e0c4d1"
      },
      "source": [
        "#74. Given an array C that is a bincount, how to produce an array A such that np.bincount(A) == C? (★★★)\n",
        "# Author: Jaime Fernández del Río\n",
        "\n",
        "C = np.bincount([1,1,2,3,4,4,6])\n",
        "A = np.repeat(np.arange(len(C)), C)\n",
        "print(A)"
      ],
      "execution_count": 43,
      "outputs": [
        {
          "output_type": "stream",
          "text": [
            "[1 1 2 3 4 4 6]\n"
          ],
          "name": "stdout"
        }
      ]
    },
    {
      "cell_type": "code",
      "metadata": {
        "id": "lRAYINBSfPE-",
        "colab_type": "code",
        "colab": {
          "base_uri": "https://localhost:8080/",
          "height": 34
        },
        "outputId": "c660821c-b568-4082-c4c6-191f99fc2635"
      },
      "source": [
        "#75. How to compute averages using a sliding window over an array? (★★★)\n",
        "# Author: Jaime Fernández del Río\n",
        "\n",
        "def moving_average(a, n=3) :\n",
        "    ret = np.cumsum(a, dtype=float)\n",
        "    ret[n:] = ret[n:] - ret[:-n]\n",
        "    return ret[n - 1:] / n\n",
        "Z = np.arange(20)\n",
        "print(moving_average(Z, n=3))"
      ],
      "execution_count": 44,
      "outputs": [
        {
          "output_type": "stream",
          "text": [
            "[ 1.  2.  3.  4.  5.  6.  7.  8.  9. 10. 11. 12. 13. 14. 15. 16. 17. 18.]\n"
          ],
          "name": "stdout"
        }
      ]
    },
    {
      "cell_type": "code",
      "metadata": {
        "id": "uy5QbrYtfRxV",
        "colab_type": "code",
        "colab": {
          "base_uri": "https://localhost:8080/",
          "height": 151
        },
        "outputId": "243c6261-c9d6-4f29-9c9b-28bd87683fd2"
      },
      "source": [
        "#76. Consider a one-dimensional array Z, build a two-dimensional array whose first row is (Z[0],Z[1],Z[2]) and each subsequent row is shifted by 1 (last row should be (Z[-3],Z[-2],Z[-1]) (★★★)\n",
        "# Author: Joe Kington / Erik Rigtorp\n",
        "from numpy.lib import stride_tricks\n",
        "\n",
        "def rolling(a, window):\n",
        "    shape = (a.size - window + 1, window)\n",
        "    strides = (a.itemsize, a.itemsize)\n",
        "    return stride_tricks.as_strided(a, shape=shape, strides=strides)\n",
        "Z = rolling(np.arange(10), 3)\n",
        "print(Z)"
      ],
      "execution_count": 45,
      "outputs": [
        {
          "output_type": "stream",
          "text": [
            "[[0 1 2]\n",
            " [1 2 3]\n",
            " [2 3 4]\n",
            " [3 4 5]\n",
            " [4 5 6]\n",
            " [5 6 7]\n",
            " [6 7 8]\n",
            " [7 8 9]]\n"
          ],
          "name": "stdout"
        }
      ]
    },
    {
      "cell_type": "code",
      "metadata": {
        "id": "mjRtKUgGfXEp",
        "colab_type": "code",
        "colab": {
          "base_uri": "https://localhost:8080/",
          "height": 353
        },
        "outputId": "7d7ca1b0-bde6-4281-8681-5bb5b8cd4992"
      },
      "source": [
        "#77. How to negate a boolean, or to change the sign of a float inplace? (★★★)\n",
        "# Author: Nathaniel J. Smith\n",
        "\n",
        "Z = np.random.randint(0,2,100)\n",
        "np.logical_not(Z, out=Z)\n",
        "\n",
        "Z = np.random.uniform(-1.0,1.0,100)\n",
        "np.negative(Z, out=Z)"
      ],
      "execution_count": 46,
      "outputs": [
        {
          "output_type": "execute_result",
          "data": {
            "text/plain": [
              "array([ 0.27437062,  0.31006044,  0.53508224,  0.56573821, -0.77068413,\n",
              "        0.46787332, -0.05102761,  0.92266323, -0.94444197,  0.62578908,\n",
              "       -0.45161547, -0.77777372,  0.53640327, -0.24907836,  0.26881437,\n",
              "       -0.32566683,  0.59962943, -0.71462788,  0.20766293, -0.22291579,\n",
              "        0.01391239,  0.26523433, -0.84593414,  0.73880189,  0.18195981,\n",
              "       -0.1329482 ,  0.94862629,  0.36360471,  0.04528647, -0.94502788,\n",
              "       -0.59511106, -0.14395221,  0.78122134,  0.65775219,  0.18580697,\n",
              "       -0.96320253,  0.70017009,  0.23585259, -0.269852  ,  0.989064  ,\n",
              "       -0.50246993,  0.7774305 , -0.90265413, -0.32588837,  0.98945861,\n",
              "       -0.36704432, -0.24872722, -0.17122944,  0.35224393, -0.1877955 ,\n",
              "       -0.45948719, -0.7364189 ,  0.33211768,  0.07501189, -0.81289837,\n",
              "       -0.71216096, -0.3094032 ,  0.58054184, -0.51417441,  0.23800602,\n",
              "        0.46099098, -0.00655803,  0.45350561,  0.73365612, -0.59715976,\n",
              "       -0.58236907,  0.00641246,  0.1121986 , -0.49262701, -0.47447115,\n",
              "       -0.38223756, -0.09985267, -0.29319703, -0.23709688,  0.93953761,\n",
              "       -0.99903195,  0.33804737,  0.91779104,  0.68778968,  0.06531579,\n",
              "        0.02652219, -0.72955608,  0.77237542, -0.74354892, -0.16547469,\n",
              "        0.30647908, -0.95845227,  0.17917876, -0.52599918, -0.55481461,\n",
              "        0.75416759,  0.05745722, -0.94294433,  0.38894765,  0.8441062 ,\n",
              "        0.93074595,  0.65258329, -0.86198541, -0.6105089 , -0.22414161])"
            ]
          },
          "metadata": {
            "tags": []
          },
          "execution_count": 46
        }
      ]
    },
    {
      "cell_type": "code",
      "metadata": {
        "id": "NZkq7dmufZq1",
        "colab_type": "code",
        "colab": {
          "base_uri": "https://localhost:8080/",
          "height": 50
        },
        "outputId": "f5a73b7e-d6f2-47c2-b71d-939c3c151951"
      },
      "source": [
        "#78. Consider 2 sets of points P0,P1 describing lines (2d) and a point p, how to compute distance from p to each line i (P0[i],P1[i])? (★★★)\n",
        "def distance(P0, P1, p):\n",
        "    T = P1 - P0\n",
        "    L = (T**2).sum(axis=1)\n",
        "    U = -((P0[:,0]-p[...,0])*T[:,0] + (P0[:,1]-p[...,1])*T[:,1]) / L\n",
        "    U = U.reshape(len(U),1)\n",
        "    D = P0 + U*T - p\n",
        "    return np.sqrt((D**2).sum(axis=1))\n",
        "\n",
        "P0 = np.random.uniform(-10,10,(10,2))\n",
        "P1 = np.random.uniform(-10,10,(10,2))\n",
        "p  = np.random.uniform(-10,10,( 1,2))\n",
        "print(distance(P0, P1, p))"
      ],
      "execution_count": 47,
      "outputs": [
        {
          "output_type": "stream",
          "text": [
            "[14.41014602  5.43670985  7.35879934 10.88712173  6.95404169  4.78254888\n",
            "  9.01982196  1.5363248   5.34884403 13.97893411]\n"
          ],
          "name": "stdout"
        }
      ]
    },
    {
      "cell_type": "code",
      "metadata": {
        "id": "YDHf5MTMfc-h",
        "colab_type": "code",
        "colab": {
          "base_uri": "https://localhost:8080/",
          "height": 353
        },
        "outputId": "d46ae5db-8071-42e6-8270-98c95525e590"
      },
      "source": [
        "#79. Consider 2 sets of points P0,P1 describing lines (2d) and a set of points P, how to compute distance from each point j (P[j]) to each line i (P0[i],P1[i])? (★★★)\n",
        "# Author: Italmassov Kuanysh\n",
        "\n",
        "# based on distance function from previous question\n",
        "P0 = np.random.uniform(-10, 10, (10,2))\n",
        "P1 = np.random.uniform(-10,10,(10,2))\n",
        "p = np.random.uniform(-10, 10, (10,2))\n",
        "print(np.array([distance(P0,P1,p_i) for p_i in p]))"
      ],
      "execution_count": 48,
      "outputs": [
        {
          "output_type": "stream",
          "text": [
            "[[ 2.25067443  0.50754628 12.7865218   1.30247082  2.88990915  6.57321362\n",
            "  10.90726021  4.39120036  9.56123179  2.83325321]\n",
            " [ 5.27611109  5.71112213  2.01454858 13.54016004  6.91531768  1.30140881\n",
            "   5.40972588 10.25489626  6.13127618  0.15357952]\n",
            " [ 4.72176957  5.74804239  0.72303344 10.78682609  5.74620469  0.65566666\n",
            "   1.96181324  7.57525292  2.25377679  0.72711039]\n",
            " [ 4.908994    6.85431122  4.18514524  7.29624257  4.95094764  0.69860438\n",
            "   2.8544795   4.21745268  3.68372831  2.64624287]\n",
            " [ 5.08559812  6.72117658  2.83708043  8.65299176  5.45252407  0.92333006\n",
            "   1.1071715   5.53361938  1.66217932  2.23430255]\n",
            " [ 3.65469273  0.94915365 13.64161887  2.15063931  4.20188447  7.966018\n",
            "  11.35256614  5.27120977  9.33989539  4.30834439]\n",
            " [ 2.35222038  3.02381057  1.12404781 10.40553275  3.81472462  1.65334596\n",
            "   2.63109848  7.10276476  4.34897649  2.26432276]\n",
            " [ 4.5468639   1.94580307 13.90657478  2.40904788  4.96003553  8.83994686\n",
            "  11.25595291  5.55985821  8.73930263  5.37977218]\n",
            " [ 6.17157917  5.18804221  8.79261933  2.75994163  4.82236728 10.20798072\n",
            "   3.44984848  0.64709186  1.60010766 10.0264381 ]\n",
            " [ 0.04986871  0.10788999  0.38697395 11.95035752  2.45366978  3.82098635\n",
            "   5.87275125  8.49066524  9.52476717  6.08636857]]\n"
          ],
          "name": "stdout"
        }
      ]
    },
    {
      "cell_type": "code",
      "metadata": {
        "id": "nG4PLVywfhGa",
        "colab_type": "code",
        "colab": {
          "base_uri": "https://localhost:8080/",
          "height": 306
        },
        "outputId": "38102373-0278-482c-b679-cf971a8c3887"
      },
      "source": [
        "#80. Consider an arbitrary array, write a function that extract a subpart with a fixed shape and centered on a given element (pad with a fill value when necessary) (★★★)\n",
        "# Author: Nicolas Rougier\n",
        "\n",
        "Z = np.random.randint(0,10,(10,10))\n",
        "shape = (5,5)\n",
        "fill  = 0\n",
        "position = (1,1)\n",
        "\n",
        "R = np.ones(shape, dtype=Z.dtype)*fill\n",
        "P  = np.array(list(position)).astype(int)\n",
        "Rs = np.array(list(R.shape)).astype(int)\n",
        "Zs = np.array(list(Z.shape)).astype(int)\n",
        "\n",
        "R_start = np.zeros((len(shape),)).astype(int)\n",
        "R_stop  = np.array(list(shape)).astype(int)\n",
        "Z_start = (P-Rs//2)\n",
        "Z_stop  = (P+Rs//2)+Rs%2\n",
        "\n",
        "R_start = (R_start - np.minimum(Z_start,0)).tolist()\n",
        "Z_start = (np.maximum(Z_start,0)).tolist()\n",
        "R_stop = np.maximum(R_start, (R_stop - np.maximum(Z_stop-Zs,0))).tolist()\n",
        "Z_stop = (np.minimum(Z_stop,Zs)).tolist()\n",
        "\n",
        "r = [slice(start,stop) for start,stop in zip(R_start,R_stop)]\n",
        "z = [slice(start,stop) for start,stop in zip(Z_start,Z_stop)]\n",
        "R[r] = Z[z]\n",
        "print(Z)\n",
        "print(R)"
      ],
      "execution_count": 49,
      "outputs": [
        {
          "output_type": "stream",
          "text": [
            "[[8 8 5 1 5 5 2 7 1 1]\n",
            " [5 7 4 4 7 9 4 2 2 6]\n",
            " [1 2 4 5 7 9 8 8 9 9]\n",
            " [9 8 7 8 6 1 4 4 4 5]\n",
            " [7 7 3 1 0 4 6 6 3 9]\n",
            " [4 3 7 1 8 8 5 7 1 0]\n",
            " [0 3 6 8 3 8 3 7 8 5]\n",
            " [8 0 6 6 1 1 9 9 5 8]\n",
            " [0 3 3 7 0 6 7 6 0 0]\n",
            " [8 4 4 1 3 1 3 5 1 8]]\n",
            "[[0 0 0 0 0]\n",
            " [0 8 8 5 1]\n",
            " [0 5 7 4 4]\n",
            " [0 1 2 4 5]\n",
            " [0 9 8 7 8]]\n"
          ],
          "name": "stdout"
        },
        {
          "output_type": "stream",
          "text": [
            "/usr/local/lib/python3.6/dist-packages/ipykernel_launcher.py:26: FutureWarning: Using a non-tuple sequence for multidimensional indexing is deprecated; use `arr[tuple(seq)]` instead of `arr[seq]`. In the future this will be interpreted as an array index, `arr[np.array(seq)]`, which will result either in an error or a different result.\n"
          ],
          "name": "stderr"
        }
      ]
    },
    {
      "cell_type": "code",
      "metadata": {
        "id": "Vs8rDP6cfk4A",
        "colab_type": "code",
        "colab": {
          "base_uri": "https://localhost:8080/",
          "height": 202
        },
        "outputId": "a5fac276-b45d-4bc4-8c75-b9c10bacdb01"
      },
      "source": [
        "#81. Consider an array Z = [1,2,3,4,5,6,7,8,9,10,11,12,13,14], how to generate an array R = [[1,2,3,4], [2,3,4,5], [3,4,5,6], ..., [11,12,13,14]]? (★★★)\n",
        "# Author: Stefan van der Walt\n",
        "\n",
        "Z = np.arange(1,15,dtype=np.uint32)\n",
        "R = stride_tricks.as_strided(Z,(11,4),(4,4))\n",
        "print(R)"
      ],
      "execution_count": 50,
      "outputs": [
        {
          "output_type": "stream",
          "text": [
            "[[ 1  2  3  4]\n",
            " [ 2  3  4  5]\n",
            " [ 3  4  5  6]\n",
            " [ 4  5  6  7]\n",
            " [ 5  6  7  8]\n",
            " [ 6  7  8  9]\n",
            " [ 7  8  9 10]\n",
            " [ 8  9 10 11]\n",
            " [ 9 10 11 12]\n",
            " [10 11 12 13]\n",
            " [11 12 13 14]]\n"
          ],
          "name": "stdout"
        }
      ]
    },
    {
      "cell_type": "code",
      "metadata": {
        "id": "R2PpDQgEfnb-",
        "colab_type": "code",
        "colab": {
          "base_uri": "https://localhost:8080/",
          "height": 34
        },
        "outputId": "45924b34-38e0-49d0-af51-62cb22a8d979"
      },
      "source": [
        "#82. Compute a matrix rank (★★★)\n",
        "# Author: Stefan van der Walt\n",
        "\n",
        "Z = np.random.uniform(0,1,(10,10))\n",
        "U, S, V = np.linalg.svd(Z) # Singular Value Decomposition\n",
        "rank = np.sum(S > 1e-10)\n",
        "print(rank)"
      ],
      "execution_count": 51,
      "outputs": [
        {
          "output_type": "stream",
          "text": [
            "10\n"
          ],
          "name": "stdout"
        }
      ]
    },
    {
      "cell_type": "code",
      "metadata": {
        "id": "v41pVOgLfqZN",
        "colab_type": "code",
        "colab": {
          "base_uri": "https://localhost:8080/",
          "height": 34
        },
        "outputId": "fde5942e-23d3-4a35-9719-26c1e7114fd5"
      },
      "source": [
        "#83. How to find the most frequent value in an array?\n",
        "Z = np.random.randint(0,10,50)\n",
        "print(np.bincount(Z).argmax())"
      ],
      "execution_count": 52,
      "outputs": [
        {
          "output_type": "stream",
          "text": [
            "3\n"
          ],
          "name": "stdout"
        }
      ]
    },
    {
      "cell_type": "code",
      "metadata": {
        "id": "tu016fKZfs0y",
        "colab_type": "code",
        "colab": {
          "base_uri": "https://localhost:8080/",
          "height": 1000
        },
        "outputId": "19fc9a64-c453-46fa-8a91-618f9764f23a"
      },
      "source": [
        "#84. Extract all the contiguous 3x3 blocks from a random 10x10 matrix (★★★)\n",
        "# Author: Chris Barker\n",
        "\n",
        "Z = np.random.randint(0,5,(10,10))\n",
        "n = 3\n",
        "i = 1 + (Z.shape[0]-3)\n",
        "j = 1 + (Z.shape[1]-3)\n",
        "C = stride_tricks.as_strided(Z, shape=(i, j, n, n), strides=Z.strides + Z.strides)\n",
        "print(C)"
      ],
      "execution_count": 53,
      "outputs": [
        {
          "output_type": "stream",
          "text": [
            "[[[[0 2 3]\n",
            "   [0 0 0]\n",
            "   [0 4 0]]\n",
            "\n",
            "  [[2 3 3]\n",
            "   [0 0 2]\n",
            "   [4 0 2]]\n",
            "\n",
            "  [[3 3 1]\n",
            "   [0 2 0]\n",
            "   [0 2 4]]\n",
            "\n",
            "  [[3 1 3]\n",
            "   [2 0 1]\n",
            "   [2 4 2]]\n",
            "\n",
            "  [[1 3 2]\n",
            "   [0 1 4]\n",
            "   [4 2 2]]\n",
            "\n",
            "  [[3 2 3]\n",
            "   [1 4 3]\n",
            "   [2 2 3]]\n",
            "\n",
            "  [[2 3 4]\n",
            "   [4 3 3]\n",
            "   [2 3 0]]\n",
            "\n",
            "  [[3 4 1]\n",
            "   [3 3 4]\n",
            "   [3 0 4]]]\n",
            "\n",
            "\n",
            " [[[0 0 0]\n",
            "   [0 4 0]\n",
            "   [4 0 1]]\n",
            "\n",
            "  [[0 0 2]\n",
            "   [4 0 2]\n",
            "   [0 1 0]]\n",
            "\n",
            "  [[0 2 0]\n",
            "   [0 2 4]\n",
            "   [1 0 1]]\n",
            "\n",
            "  [[2 0 1]\n",
            "   [2 4 2]\n",
            "   [0 1 4]]\n",
            "\n",
            "  [[0 1 4]\n",
            "   [4 2 2]\n",
            "   [1 4 1]]\n",
            "\n",
            "  [[1 4 3]\n",
            "   [2 2 3]\n",
            "   [4 1 0]]\n",
            "\n",
            "  [[4 3 3]\n",
            "   [2 3 0]\n",
            "   [1 0 3]]\n",
            "\n",
            "  [[3 3 4]\n",
            "   [3 0 4]\n",
            "   [0 3 0]]]\n",
            "\n",
            "\n",
            " [[[0 4 0]\n",
            "   [4 0 1]\n",
            "   [3 3 4]]\n",
            "\n",
            "  [[4 0 2]\n",
            "   [0 1 0]\n",
            "   [3 4 0]]\n",
            "\n",
            "  [[0 2 4]\n",
            "   [1 0 1]\n",
            "   [4 0 2]]\n",
            "\n",
            "  [[2 4 2]\n",
            "   [0 1 4]\n",
            "   [0 2 2]]\n",
            "\n",
            "  [[4 2 2]\n",
            "   [1 4 1]\n",
            "   [2 2 2]]\n",
            "\n",
            "  [[2 2 3]\n",
            "   [4 1 0]\n",
            "   [2 2 4]]\n",
            "\n",
            "  [[2 3 0]\n",
            "   [1 0 3]\n",
            "   [2 4 2]]\n",
            "\n",
            "  [[3 0 4]\n",
            "   [0 3 0]\n",
            "   [4 2 2]]]\n",
            "\n",
            "\n",
            " [[[4 0 1]\n",
            "   [3 3 4]\n",
            "   [4 3 2]]\n",
            "\n",
            "  [[0 1 0]\n",
            "   [3 4 0]\n",
            "   [3 2 1]]\n",
            "\n",
            "  [[1 0 1]\n",
            "   [4 0 2]\n",
            "   [2 1 3]]\n",
            "\n",
            "  [[0 1 4]\n",
            "   [0 2 2]\n",
            "   [1 3 4]]\n",
            "\n",
            "  [[1 4 1]\n",
            "   [2 2 2]\n",
            "   [3 4 0]]\n",
            "\n",
            "  [[4 1 0]\n",
            "   [2 2 4]\n",
            "   [4 0 4]]\n",
            "\n",
            "  [[1 0 3]\n",
            "   [2 4 2]\n",
            "   [0 4 0]]\n",
            "\n",
            "  [[0 3 0]\n",
            "   [4 2 2]\n",
            "   [4 0 4]]]\n",
            "\n",
            "\n",
            " [[[3 3 4]\n",
            "   [4 3 2]\n",
            "   [3 1 1]]\n",
            "\n",
            "  [[3 4 0]\n",
            "   [3 2 1]\n",
            "   [1 1 4]]\n",
            "\n",
            "  [[4 0 2]\n",
            "   [2 1 3]\n",
            "   [1 4 1]]\n",
            "\n",
            "  [[0 2 2]\n",
            "   [1 3 4]\n",
            "   [4 1 2]]\n",
            "\n",
            "  [[2 2 2]\n",
            "   [3 4 0]\n",
            "   [1 2 2]]\n",
            "\n",
            "  [[2 2 4]\n",
            "   [4 0 4]\n",
            "   [2 2 3]]\n",
            "\n",
            "  [[2 4 2]\n",
            "   [0 4 0]\n",
            "   [2 3 1]]\n",
            "\n",
            "  [[4 2 2]\n",
            "   [4 0 4]\n",
            "   [3 1 2]]]\n",
            "\n",
            "\n",
            " [[[4 3 2]\n",
            "   [3 1 1]\n",
            "   [4 2 2]]\n",
            "\n",
            "  [[3 2 1]\n",
            "   [1 1 4]\n",
            "   [2 2 3]]\n",
            "\n",
            "  [[2 1 3]\n",
            "   [1 4 1]\n",
            "   [2 3 4]]\n",
            "\n",
            "  [[1 3 4]\n",
            "   [4 1 2]\n",
            "   [3 4 3]]\n",
            "\n",
            "  [[3 4 0]\n",
            "   [1 2 2]\n",
            "   [4 3 0]]\n",
            "\n",
            "  [[4 0 4]\n",
            "   [2 2 3]\n",
            "   [3 0 1]]\n",
            "\n",
            "  [[0 4 0]\n",
            "   [2 3 1]\n",
            "   [0 1 2]]\n",
            "\n",
            "  [[4 0 4]\n",
            "   [3 1 2]\n",
            "   [1 2 3]]]\n",
            "\n",
            "\n",
            " [[[3 1 1]\n",
            "   [4 2 2]\n",
            "   [1 3 2]]\n",
            "\n",
            "  [[1 1 4]\n",
            "   [2 2 3]\n",
            "   [3 2 0]]\n",
            "\n",
            "  [[1 4 1]\n",
            "   [2 3 4]\n",
            "   [2 0 0]]\n",
            "\n",
            "  [[4 1 2]\n",
            "   [3 4 3]\n",
            "   [0 0 2]]\n",
            "\n",
            "  [[1 2 2]\n",
            "   [4 3 0]\n",
            "   [0 2 1]]\n",
            "\n",
            "  [[2 2 3]\n",
            "   [3 0 1]\n",
            "   [2 1 2]]\n",
            "\n",
            "  [[2 3 1]\n",
            "   [0 1 2]\n",
            "   [1 2 3]]\n",
            "\n",
            "  [[3 1 2]\n",
            "   [1 2 3]\n",
            "   [2 3 4]]]\n",
            "\n",
            "\n",
            " [[[4 2 2]\n",
            "   [1 3 2]\n",
            "   [4 0 2]]\n",
            "\n",
            "  [[2 2 3]\n",
            "   [3 2 0]\n",
            "   [0 2 2]]\n",
            "\n",
            "  [[2 3 4]\n",
            "   [2 0 0]\n",
            "   [2 2 3]]\n",
            "\n",
            "  [[3 4 3]\n",
            "   [0 0 2]\n",
            "   [2 3 1]]\n",
            "\n",
            "  [[4 3 0]\n",
            "   [0 2 1]\n",
            "   [3 1 0]]\n",
            "\n",
            "  [[3 0 1]\n",
            "   [2 1 2]\n",
            "   [1 0 4]]\n",
            "\n",
            "  [[0 1 2]\n",
            "   [1 2 3]\n",
            "   [0 4 1]]\n",
            "\n",
            "  [[1 2 3]\n",
            "   [2 3 4]\n",
            "   [4 1 3]]]]\n"
          ],
          "name": "stdout"
        }
      ]
    },
    {
      "cell_type": "code",
      "metadata": {
        "id": "bt68_Uq3fvWB",
        "colab_type": "code",
        "colab": {
          "base_uri": "https://localhost:8080/",
          "height": 101
        },
        "outputId": "52818f3e-f144-42b0-cab5-12d031fb412c"
      },
      "source": [
        "#85. Create a 2D array subclass such that Z[i,j] == Z[j,i] (★★★)\n",
        "# Author: Eric O. Lebigot\n",
        "# Note: only works for 2d array and value setting using indices\n",
        "\n",
        "class Symetric(np.ndarray):\n",
        "    def __setitem__(self, index, value):\n",
        "        i,j = index\n",
        "        super(Symetric, self).__setitem__((i,j), value)\n",
        "        super(Symetric, self).__setitem__((j,i), value)\n",
        "\n",
        "def symetric(Z):\n",
        "    return np.asarray(Z + Z.T - np.diag(Z.diagonal())).view(Symetric)\n",
        "\n",
        "S = symetric(np.random.randint(0,10,(5,5)))\n",
        "S[2,3] = 42\n",
        "print(S)"
      ],
      "execution_count": 54,
      "outputs": [
        {
          "output_type": "stream",
          "text": [
            "[[ 0  6  9  5  9]\n",
            " [ 6  8  9 16  4]\n",
            " [ 9  9  7 42  9]\n",
            " [ 5 16 42  5  5]\n",
            " [ 9  4  9  5  0]]\n"
          ],
          "name": "stdout"
        }
      ]
    },
    {
      "cell_type": "code",
      "metadata": {
        "id": "H2YkCOnnfyVy",
        "colab_type": "code",
        "colab": {
          "base_uri": "https://localhost:8080/",
          "height": 353
        },
        "outputId": "3de7e68a-a143-4900-8780-53f794e5da73"
      },
      "source": [
        "#86. Consider a set of p matrices wich shape (n,n) and a set of p vectors with shape (n,1). How to compute the sum of of the p matrix products at once? (result has shape (n,1)) (★★★)\n",
        "# Author: Stefan van der Walt\n",
        "\n",
        "p, n = 10, 20\n",
        "M = np.ones((p,n,n))\n",
        "V = np.ones((p,n,1))\n",
        "S = np.tensordot(M, V, axes=[[0, 2], [0, 1]])\n",
        "print(S)\n",
        "\n",
        "# It works, because:\n",
        "# M is (p,n,n)\n",
        "# V is (p,n,1)\n",
        "# Thus, summing over the paired axes 0 and 0 (of M and V independently),\n",
        "# and 2 and 1, to remain with a (n,1) vector."
      ],
      "execution_count": 55,
      "outputs": [
        {
          "output_type": "stream",
          "text": [
            "[[200.]\n",
            " [200.]\n",
            " [200.]\n",
            " [200.]\n",
            " [200.]\n",
            " [200.]\n",
            " [200.]\n",
            " [200.]\n",
            " [200.]\n",
            " [200.]\n",
            " [200.]\n",
            " [200.]\n",
            " [200.]\n",
            " [200.]\n",
            " [200.]\n",
            " [200.]\n",
            " [200.]\n",
            " [200.]\n",
            " [200.]\n",
            " [200.]]\n"
          ],
          "name": "stdout"
        }
      ]
    },
    {
      "cell_type": "code",
      "metadata": {
        "id": "xyX37xD7f19C",
        "colab_type": "code",
        "colab": {
          "base_uri": "https://localhost:8080/",
          "height": 84
        },
        "outputId": "8e189db8-58c1-4b6e-b886-3ab438c1ada8"
      },
      "source": [
        "#87. Consider a 16x16 array, how to get the block-sum (block size is 4x4)? (★★★)\n",
        "# Author: Robert Kern\n",
        "\n",
        "Z = np.ones((16,16))\n",
        "k = 4\n",
        "S = np.add.reduceat(np.add.reduceat(Z, np.arange(0, Z.shape[0], k), axis=0),\n",
        "                                       np.arange(0, Z.shape[1], k), axis=1)\n",
        "print(S)"
      ],
      "execution_count": 56,
      "outputs": [
        {
          "output_type": "stream",
          "text": [
            "[[16. 16. 16. 16.]\n",
            " [16. 16. 16. 16.]\n",
            " [16. 16. 16. 16.]\n",
            " [16. 16. 16. 16.]]\n"
          ],
          "name": "stdout"
        }
      ]
    },
    {
      "cell_type": "code",
      "metadata": {
        "id": "31DkTsCYf433",
        "colab_type": "code",
        "colab": {
          "base_uri": "https://localhost:8080/",
          "height": 134
        },
        "outputId": "e62114dc-6a29-49d6-8fe9-9eca7878c42e"
      },
      "source": [
        "#88. How to implement the Game of Life using numpy arrays? (★★★)\n",
        "# Author: Nicolas Rougier\n",
        "\n",
        "def iterate(Z):\n",
        "    # Count neighbours\n",
        "    N = (Z[0:-2,0:-2] + Z[0:-2,1:-1] + Z[0:-2,2:] +\n",
        "         Z[1:-1,0:-2]                + Z[1:-1,2:] +\n",
        "         Z[2:  ,0:-2] + Z[2:  ,1:-1] + Z[2:  ,2:])\n",
        "\n",
        "    # Apply rules\n",
        "    birth = (N==3) & (Z[1:-1,1:-1]==0)\n",
        "    survive = ((N==2) | (N==3)) & (Z[1:-1,1:-1]==1)\n",
        "    Z[...] = 0\n",
        "    Z[1:-1,1:-1][birth | survive] = 1\n",
        "    return Z\n",
        "\n",
        "Z = np.random.randint(0,2,(50,50))\n",
        "for i in range(100): Z = iterate(Z)\n",
        "print(Z)"
      ],
      "execution_count": 57,
      "outputs": [
        {
          "output_type": "stream",
          "text": [
            "[[0 0 0 ... 0 0 0]\n",
            " [0 0 0 ... 1 0 0]\n",
            " [0 0 0 ... 1 0 0]\n",
            " ...\n",
            " [0 0 0 ... 0 0 0]\n",
            " [0 0 0 ... 0 0 0]\n",
            " [0 0 0 ... 0 0 0]]\n"
          ],
          "name": "stdout"
        }
      ]
    },
    {
      "cell_type": "code",
      "metadata": {
        "id": "D0Tol252f71J",
        "colab_type": "code",
        "colab": {
          "base_uri": "https://localhost:8080/",
          "height": 50
        },
        "outputId": "e38dc421-302a-445f-ab91-1f2f3e2b54aa"
      },
      "source": [
        "#89. How to get the n largest values of an array (★★★)\n",
        "Z = np.arange(10000)\n",
        "np.random.shuffle(Z)\n",
        "n = 5\n",
        "\n",
        "# Slow\n",
        "print (Z[np.argsort(Z)[-n:]])\n",
        "\n",
        "# Fast\n",
        "print (Z[np.argpartition(-Z,n)[:n]])"
      ],
      "execution_count": 58,
      "outputs": [
        {
          "output_type": "stream",
          "text": [
            "[9995 9996 9997 9998 9999]\n",
            "[9998 9999 9996 9997 9995]\n"
          ],
          "name": "stdout"
        }
      ]
    },
    {
      "cell_type": "code",
      "metadata": {
        "id": "iVAxp9J4f-fn",
        "colab_type": "code",
        "colab": {
          "base_uri": "https://localhost:8080/",
          "height": 218
        },
        "outputId": "63decb93-423f-45a8-ebf1-cf02737aa78d"
      },
      "source": [
        "#90. Given an arbitrary number of vectors, build the cartesian product (every combinations of every item) (★★★)\n",
        "# Author: Stefan Van der Walt\n",
        "\n",
        "def cartesian(arrays):\n",
        "    arrays = [np.asarray(a) for a in arrays]\n",
        "    shape = (len(x) for x in arrays)\n",
        "\n",
        "    ix = np.indices(shape, dtype=int)\n",
        "    ix = ix.reshape(len(arrays), -1).T\n",
        "\n",
        "    for n, arr in enumerate(arrays):\n",
        "        ix[:, n] = arrays[n][ix[:, n]]\n",
        "\n",
        "    return ix\n",
        "\n",
        "print (cartesian(([1, 2, 3], [4, 5], [6, 7])))"
      ],
      "execution_count": 59,
      "outputs": [
        {
          "output_type": "stream",
          "text": [
            "[[1 4 6]\n",
            " [1 4 7]\n",
            " [1 5 6]\n",
            " [1 5 7]\n",
            " [2 4 6]\n",
            " [2 4 7]\n",
            " [2 5 6]\n",
            " [2 5 7]\n",
            " [3 4 6]\n",
            " [3 4 7]\n",
            " [3 5 6]\n",
            " [3 5 7]]\n"
          ],
          "name": "stdout"
        }
      ]
    },
    {
      "cell_type": "code",
      "metadata": {
        "id": "LsJ8DnQ0gBIi",
        "colab_type": "code",
        "colab": {
          "base_uri": "https://localhost:8080/",
          "height": 34
        },
        "outputId": "e712d7d7-cff1-4041-a617-78e8f5a3f5e3"
      },
      "source": [
        "#91. How to create a record array from a regular array? (★★★)\n",
        "Z = np.array([(\"Hello\", 2.5, 3),\n",
        "              (\"World\", 3.6, 2)])\n",
        "R = np.core.records.fromarrays(Z.T,\n",
        "                               names='col1, col2, col3',\n",
        "                               formats = 'S8, f8, i8')\n",
        "print(R)"
      ],
      "execution_count": 60,
      "outputs": [
        {
          "output_type": "stream",
          "text": [
            "[(b'Hello', 2.5, 3) (b'World', 3.6, 2)]\n"
          ],
          "name": "stdout"
        }
      ]
    },
    {
      "cell_type": "code",
      "metadata": {
        "id": "W_gGoTdVgD9k",
        "colab_type": "code",
        "colab": {
          "base_uri": "https://localhost:8080/",
          "height": 67
        },
        "outputId": "a87d5de2-56cb-4066-926a-05484b7fa24e"
      },
      "source": [
        "#92. Consider a large vector Z, compute Z to the power of 3 using 3 different methods (★★★)\n",
        "# Author: Ryan G.\n",
        "\n",
        "x = np.random.rand(int(5e7))\n",
        "\n",
        "%timeit np.power(x,3)\n",
        "%timeit x*x*x\n",
        "%timeit np.einsum('i,i,i->i',x,x,x)"
      ],
      "execution_count": 61,
      "outputs": [
        {
          "output_type": "stream",
          "text": [
            "1 loop, best of 3: 3.68 s per loop\n",
            "10 loops, best of 3: 143 ms per loop\n",
            "10 loops, best of 3: 126 ms per loop\n"
          ],
          "name": "stdout"
        }
      ]
    },
    {
      "cell_type": "code",
      "metadata": {
        "id": "uYsVmPBLgQol",
        "colab_type": "code",
        "colab": {
          "base_uri": "https://localhost:8080/",
          "height": 34
        },
        "outputId": "d188d0e4-ebda-4688-bda0-abf77aeb045f"
      },
      "source": [
        "#93. Consider two arrays A and B of shape (8,3) and (2,2). How to find rows of A that contain elements of each row of B regardless of the order of the elements in B? (★★★)\n",
        "# Author: Gabe Schwartz\n",
        "\n",
        "A = np.random.randint(0,5,(8,3))\n",
        "B = np.random.randint(0,5,(2,2))\n",
        "\n",
        "C = (A[..., np.newaxis, np.newaxis] == B)\n",
        "rows = np.where(C.any((3,1)).all(1))[0]\n",
        "print(rows)"
      ],
      "execution_count": 62,
      "outputs": [
        {
          "output_type": "stream",
          "text": [
            "[0 1 3 7]\n"
          ],
          "name": "stdout"
        }
      ]
    },
    {
      "cell_type": "code",
      "metadata": {
        "id": "oqgkguwVgS9t",
        "colab_type": "code",
        "colab": {
          "base_uri": "https://localhost:8080/",
          "height": 521
        },
        "outputId": "772e789d-9257-4da7-e8ba-b68ec71d159b"
      },
      "source": [
        "#94. Considering a 10x3 matrix, extract rows with unequal values (e.g. [2,2,3]) (★★★)\n",
        "# Author: Robert Kern\n",
        "\n",
        "Z = np.random.randint(0,5,(10,3))\n",
        "print(Z)\n",
        "# solution for arrays of all dtypes (including string arrays and record arrays)\n",
        "E = np.all(Z[:,1:] == Z[:,:-1], axis=1)\n",
        "U = Z[~E]\n",
        "print(U)\n",
        "# soluiton for numerical arrays only, will work for any number of columns in Z\n",
        "U = Z[Z.max(axis=1) != Z.min(axis=1),:]\n",
        "print(U)"
      ],
      "execution_count": 63,
      "outputs": [
        {
          "output_type": "stream",
          "text": [
            "[[4 0 1]\n",
            " [2 4 3]\n",
            " [0 4 0]\n",
            " [2 3 3]\n",
            " [4 1 4]\n",
            " [0 4 0]\n",
            " [2 0 4]\n",
            " [4 0 0]\n",
            " [3 0 4]\n",
            " [0 3 1]]\n",
            "[[4 0 1]\n",
            " [2 4 3]\n",
            " [0 4 0]\n",
            " [2 3 3]\n",
            " [4 1 4]\n",
            " [0 4 0]\n",
            " [2 0 4]\n",
            " [4 0 0]\n",
            " [3 0 4]\n",
            " [0 3 1]]\n",
            "[[4 0 1]\n",
            " [2 4 3]\n",
            " [0 4 0]\n",
            " [2 3 3]\n",
            " [4 1 4]\n",
            " [0 4 0]\n",
            " [2 0 4]\n",
            " [4 0 0]\n",
            " [3 0 4]\n",
            " [0 3 1]]\n"
          ],
          "name": "stdout"
        }
      ]
    },
    {
      "cell_type": "code",
      "metadata": {
        "id": "pWengegvgVsE",
        "colab_type": "code",
        "colab": {
          "base_uri": "https://localhost:8080/",
          "height": 319
        },
        "outputId": "d2126e7a-3654-479b-dbd3-8a63ffdb97f8"
      },
      "source": [
        "#95. Convert a vector of ints into a matrix binary representation (★★★)\n",
        "# Author: Warren Weckesser\n",
        "\n",
        "I = np.array([0, 1, 2, 3, 15, 16, 32, 64, 128])\n",
        "B = ((I.reshape(-1,1) & (2**np.arange(8))) != 0).astype(int)\n",
        "print(B[:,::-1])\n",
        "\n",
        "# Author: Daniel T. McDonald\n",
        "\n",
        "I = np.array([0, 1, 2, 3, 15, 16, 32, 64, 128], dtype=np.uint8)\n",
        "print(np.unpackbits(I[:, np.newaxis], axis=1))"
      ],
      "execution_count": 64,
      "outputs": [
        {
          "output_type": "stream",
          "text": [
            "[[0 0 0 0 0 0 0 0]\n",
            " [0 0 0 0 0 0 0 1]\n",
            " [0 0 0 0 0 0 1 0]\n",
            " [0 0 0 0 0 0 1 1]\n",
            " [0 0 0 0 1 1 1 1]\n",
            " [0 0 0 1 0 0 0 0]\n",
            " [0 0 1 0 0 0 0 0]\n",
            " [0 1 0 0 0 0 0 0]\n",
            " [1 0 0 0 0 0 0 0]]\n",
            "[[0 0 0 0 0 0 0 0]\n",
            " [0 0 0 0 0 0 0 1]\n",
            " [0 0 0 0 0 0 1 0]\n",
            " [0 0 0 0 0 0 1 1]\n",
            " [0 0 0 0 1 1 1 1]\n",
            " [0 0 0 1 0 0 0 0]\n",
            " [0 0 1 0 0 0 0 0]\n",
            " [0 1 0 0 0 0 0 0]\n",
            " [1 0 0 0 0 0 0 0]]\n"
          ],
          "name": "stdout"
        }
      ]
    },
    {
      "cell_type": "code",
      "metadata": {
        "id": "nvREICPegZ76",
        "colab_type": "code",
        "colab": {
          "base_uri": "https://localhost:8080/",
          "height": 151
        },
        "outputId": "5af35f89-1af4-4f81-978f-b20b3732802b"
      },
      "source": [
        "#96. Given a two dimensional array, how to extract unique rows? (★★★)\n",
        "# Author: Jaime Fernández del Río\n",
        "\n",
        "Z = np.random.randint(0,2,(6,3))\n",
        "T = np.ascontiguousarray(Z).view(np.dtype((np.void, Z.dtype.itemsize * Z.shape[1])))\n",
        "_, idx = np.unique(T, return_index=True)\n",
        "uZ = Z[idx]\n",
        "print(uZ)\n",
        "\n",
        "# Author: Andreas Kouzelis\n",
        "# NumPy >= 1.13\n",
        "uZ = np.unique(Z, axis=0)\n",
        "print(uZ)"
      ],
      "execution_count": 65,
      "outputs": [
        {
          "output_type": "stream",
          "text": [
            "[[0 0 1]\n",
            " [1 0 1]\n",
            " [1 1 0]\n",
            " [1 1 1]]\n",
            "[[0 0 1]\n",
            " [1 0 1]\n",
            " [1 1 0]\n",
            " [1 1 1]]\n"
          ],
          "name": "stdout"
        }
      ]
    },
    {
      "cell_type": "code",
      "metadata": {
        "id": "ejCckzW5gczk",
        "colab_type": "code",
        "colab": {
          "base_uri": "https://localhost:8080/",
          "height": 353
        },
        "outputId": "b805a761-a22a-4ce0-fdd0-3f417bb48f39"
      },
      "source": [
        "#97. Considering 2 vectors A & B, write the einsum equivalent of inner, outer, sum, and mul function (★★★)\n",
        "# Author: Alex Riley\n",
        "# Make sure to read: http://ajcr.net/Basic-guide-to-einsum/\n",
        "\n",
        "A = np.random.uniform(0,1,10)\n",
        "B = np.random.uniform(0,1,10)\n",
        "\n",
        "np.einsum('i->', A)       # np.sum(A)\n",
        "np.einsum('i,i->i', A, B) # A * B\n",
        "np.einsum('i,i', A, B)    # np.inner(A, B)\n",
        "np.einsum('i,j->ij', A, B)    # np.outer(A, B)"
      ],
      "execution_count": 66,
      "outputs": [
        {
          "output_type": "execute_result",
          "data": {
            "text/plain": [
              "array([[0.82721312, 0.17971599, 0.75714378, 0.18966352, 0.68148011,\n",
              "        0.71066643, 0.78903275, 0.03724922, 0.57658174, 0.21439213],\n",
              "       [0.18762918, 0.04076333, 0.171736  , 0.04301964, 0.1545739 ,\n",
              "        0.16119396, 0.17896908, 0.0084489 , 0.13078076, 0.04862861],\n",
              "       [0.04310441, 0.00936464, 0.03945324, 0.00988298, 0.03551055,\n",
              "        0.0370314 , 0.04111491, 0.00194098, 0.03004451, 0.01117154],\n",
              "       [0.07686325, 0.01669891, 0.07035253, 0.01762322, 0.06332199,\n",
              "        0.06603393, 0.0733156 , 0.00346113, 0.05357501, 0.01992096],\n",
              "       [0.70830808, 0.15388331, 0.64831063, 0.16240096, 0.58352298,\n",
              "        0.60851401, 0.67561582, 0.03189495, 0.49370289, 0.18357504],\n",
              "       [0.38383011, 0.08338892, 0.35131766, 0.08800461, 0.31620943,\n",
              "        0.32975199, 0.36611427, 0.01728378, 0.26753617, 0.09947878],\n",
              "       [0.0970411 , 0.02108264, 0.0888212 , 0.02224959, 0.07994503,\n",
              "        0.0833689 , 0.09256212, 0.00436974, 0.06763931, 0.02515053],\n",
              "       [0.53595569, 0.11643893, 0.4905574 , 0.12288398, 0.44153451,\n",
              "        0.46044448, 0.51121843, 0.02413396, 0.37357031, 0.13890578],\n",
              "       [0.11311962, 0.02457578, 0.10353779, 0.02593608, 0.09319094,\n",
              "        0.09718211, 0.10789854, 0.00509375, 0.07884632, 0.02931766],\n",
              "       [0.50173703, 0.10900476, 0.45923724, 0.11503832, 0.41334427,\n",
              "        0.43104691, 0.47857915, 0.0225931 , 0.34971932, 0.13003719]])"
            ]
          },
          "metadata": {
            "tags": []
          },
          "execution_count": 66
        }
      ]
    },
    {
      "cell_type": "code",
      "metadata": {
        "id": "9q7Zybvkgozc",
        "colab_type": "code",
        "colab": {
          "base_uri": "https://localhost:8080/",
          "height": 34
        },
        "outputId": "6a9f557c-f5f2-41cd-dcb5-40371482caa3"
      },
      "source": [
        "#99. Given an integer n and a 2D array X, select from X the rows which can be interpreted as draws from a multinomial distribution with n degrees, i.e., the rows which only contain integers and which sum to n. (★★★)\n",
        "# Author: Evgeni Burovski\n",
        "\n",
        "X = np.asarray([[1.0, 0.0, 3.0, 8.0],\n",
        "                [2.0, 0.0, 1.0, 1.0],\n",
        "                [1.5, 2.5, 1.0, 0.0]])\n",
        "n = 4\n",
        "M = np.logical_and.reduce(np.mod(X, 1) == 0, axis=-1)\n",
        "M &= (X.sum(axis=-1) == n)\n",
        "print(X[M])"
      ],
      "execution_count": 70,
      "outputs": [
        {
          "output_type": "stream",
          "text": [
            "[[2. 0. 1. 1.]]\n"
          ],
          "name": "stdout"
        }
      ]
    },
    {
      "cell_type": "code",
      "metadata": {
        "id": "2wIhf4M-gygq",
        "colab_type": "code",
        "colab": {
          "base_uri": "https://localhost:8080/",
          "height": 34
        },
        "outputId": "0d3bf182-3a5c-4b12-d21c-7f59348875ff"
      },
      "source": [
        "#100. Compute bootstrapped 95% confidence intervals for the mean of a 1D array X (i.e., resample the elements of an array with replacement N times, compute the mean of each sample, and then compute percentiles over the means). (★★★)\n",
        "# Author: Jessica B. Hamrick\n",
        "\n",
        "X = np.random.randn(100) # random 1D array\n",
        "N = 1000 # number of bootstrap samples\n",
        "idx = np.random.randint(0, X.size, (N, X.size))\n",
        "means = X[idx].mean(axis=1)\n",
        "confint = np.percentile(means, [2.5, 97.5])\n",
        "print(confint)"
      ],
      "execution_count": 71,
      "outputs": [
        {
          "output_type": "stream",
          "text": [
            "[-0.13478488  0.22172027]\n"
          ],
          "name": "stdout"
        }
      ]
    }
  ]
}